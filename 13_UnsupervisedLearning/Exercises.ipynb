{
 "cells": [
  {
   "cell_type": "code",
   "execution_count": null,
   "metadata": {
    "collapsed": true
   },
   "outputs": [],
   "source": [
    "from IPython.core.display import HTML\n",
    "def css_styling():\n",
    "    styles = open(\"styles/custom.css\", \"r\").read()\n",
    "    return HTML(styles)\n",
    "css_styling()\n",
    "\n",
    "import numpy as np\n",
    "np.set_printoptions(linewidth=105)"
   ]
  },
  {
   "cell_type": "markdown",
   "metadata": {},
   "source": [
    "<font color='red'>\n",
    "\n",
    "# Machine Learning: Unsupervised learning (Part 3)\n"
   ]
  },
  {
   "cell_type": "markdown",
   "metadata": {},
   "source": [
    "# 6. CASE STUDY: Credit cards data analysis\n"
   ]
  },
  {
   "cell_type": "markdown",
   "metadata": {},
   "source": [
    "This case requires to develop a customer segmentation to define marketing strategy. The sample Dataset summarizes the usage behavior of about 9000 active credit card holders during the last 6 months. The file is at a customer level with 18 behavioral variables."
   ]
  },
  {
   "cell_type": "markdown",
   "metadata": {},
   "source": [
    "### The goal is to segment the customers (card holders) in order to define a marketing strategy.\n",
    "\n",
    "- How many clusters do you see? \n",
    "\n",
    "- How can you characterize them?\n",
    "\n",
    "- Do we have missing data and how will you manage it?"
   ]
  },
  {
   "cell_type": "markdown",
   "metadata": {},
   "source": [
    "As usual we begin by importing libraries and the data. We'll check for missing values."
   ]
  },
  {
   "cell_type": "code",
   "execution_count": null,
   "metadata": {},
   "outputs": [],
   "source": [
    "import numpy as np\n",
    "import pandas as pd\n",
    "import matplotlib.pyplot as plt\n",
    "\n",
    "data =pd.read_csv(\"data/CC GENERAL.csv\")\n",
    "missing = data.isnull().sum()\n",
    "print(missing)"
   ]
  },
  {
   "cell_type": "markdown",
   "metadata": {},
   "source": [
    "**Hint:** May be you will find clusters like: \n",
    "\n",
    "* Big Spenders with large Payments \n",
    "\n",
    "* Cash Advances with large Payments, etc. \n",
    "\n",
    "### What marketing strategy do you propose? \n"
   ]
  },
  {
   "cell_type": "code",
   "execution_count": null,
   "metadata": {
    "collapsed": true
   },
   "outputs": [],
   "source": [
    "# your solution"
   ]
  },
  {
   "cell_type": "code",
   "execution_count": null,
   "metadata": {
    "collapsed": true
   },
   "outputs": [],
   "source": []
  },
  {
   "cell_type": "code",
   "execution_count": null,
   "metadata": {
    "collapsed": true
   },
   "outputs": [],
   "source": []
  },
  {
   "cell_type": "code",
   "execution_count": null,
   "metadata": {
    "collapsed": true
   },
   "outputs": [],
   "source": []
  },
  {
   "cell_type": "code",
   "execution_count": null,
   "metadata": {
    "collapsed": true
   },
   "outputs": [],
   "source": [
    "Answer:\n",
    "The goal was to segment the customers in order to define a marketing strategy:\n",
    "\n",
    "* **Big Spenders with large Payments** - they make expensive purchases and have a credit limit that is between average and high.  This is only a small group of customers.\n",
    "* **Cash Advances with large Payments** - this group takes the most cash advances. They make large payments, but this appears to be a small group of customers.\n",
    "* **Medium Spenders with third highest Payments **- the second highest Purchases group (after the Big Spenders).\n",
    "* **Highest Credit Limit but Frugal** - this group doesn't make a lot of purchases. It looks like the 3rd largest group of customers.\n",
    "* **Cash Advances with Small Payments **- this group likes taking cash advances, but make only small payments. \n",
    "* **Small Spenders and Low Credit Limit** - they have the smallest Balances after the Smallest Spenders, their Credit Limit is in the bottom 3 groups, the second largest group of customers.\n",
    "* **Smallest Spenders and Lowest Credit Limit** - this is the group with the lowest credit limit but they don't appear to buy much. Unfortunately this appears to be the largest group of customers.\n",
    "* **Highest Min Payments** - this group has the highest minimum payments (which presumably refers to \"Min Payment Due\" on the monthly statement. This might be a reflection of the fact that they have the second lowest Credit Limit of the groups, so it looks like the bank has identified them as higher risk.)\n",
    "\n",
    "So a marketing strategy that targeted the first five groups might be effective. \n",
    "\n"
   ]
  },
  {
   "cell_type": "code",
   "execution_count": null,
   "metadata": {
    "collapsed": true
   },
   "outputs": [],
   "source": []
  },
  {
   "cell_type": "markdown",
   "metadata": {},
   "source": [
    "# 7 Case Study: Amazon Fine Food Reviews\n",
    "\n",
    "\n",
    "This dataset consists of reviews of fine foods from amazon. The data span a period of more than 10 years, including all ~500,000 reviews up to October 2012. Reviews include product and user information, ratings, and a plain text review. It also includes reviews from all other Amazon categories.\n",
    "\n",
    "Data are stored in:\n",
    "     - Reviews.csv: Pulled from the corresponding SQLite table named Reviews as well as \n",
    "     - database.sqlite: Contains the table 'Reviews'\n",
    "\n",
    "\n",
    "### 7.1. Introduction:\n",
    "\n",
    "\n",
    "Data Source: https://www.kaggle.com/snap/amazon-fine-food-reviews\n",
    "\n",
    "The Amazon Fine Food Reviews dataset consists of reviews of fine foods from Amazon.<br>\n",
    "\n",
    "Number of reviews: 568,454  from Oct 1999 - Oct 2012<br>\n",
    "Number of users: 256,059<br>\n",
    "Number of products: 74,258<br>\n",
    "Timespan: Oct 1999 - Oct 2012<br>\n",
    "Number of Attributes/Columns in data: 10 \n",
    "\n",
    "### 7.1.2 Attribute Information:\n",
    "\n",
    "1. Id\n",
    "2. ProductId - unique identifier for the product\n",
    "3. UserId - unqiue identifier for the user\n",
    "4. Text\n",
    "5. Score - rating between 1 and 5\n",
    "6. ProfileName\n",
    "7. HelpfulnessNumerator - number of users who found the review helpful\n",
    "8. HelpfulnessDenominator - number of users who indicated whether they found the review helpful or not\n",
    "9. Time - timestamp for the review"
   ]
  },
  {
   "cell_type": "markdown",
   "metadata": {},
   "source": [
    "## Goal: Apply clustering techniques to summarize similar opinions on products.\n",
    "Hint: May be you should explore techniques like Bag of words or Word2Vec to manage textual information."
   ]
  },
  {
   "cell_type": "markdown",
   "metadata": {},
   "source": [
    "# 8. Case study: Customer segmentation\n",
    "\n",
    "Analyze the content of an E-commerce database that lists purchases made by $\\sim$4000 customers over a period of one year (from 2010/12/01 to 2011/12/09). The dataset is stored in: ecommerce-data.csv."
   ]
  },
  {
   "cell_type": "markdown",
   "metadata": {},
   "source": [
    "## Final goal: develop a model that allows to anticipate the purchases that will be made by a new customer, during the following year."
   ]
  },
  {
   "cell_type": "markdown",
   "metadata": {},
   "source": [
    "You can address the following tasks: <br>\n",
    "\n",
    "___\n",
    "**1. Data Preparation**\n",
    "\n",
    "**2. Exploring the content of variables**\n",
    "\n",
    "   - 2.1 Countries\n",
    "   - 2.2 Customers and products\n",
    "       * 2.2.1 Cancelling orders\n",
    "       * 2.2.2 StockCode\n",
    "       * 2.2.3 Basket price\n",
    "\n",
    "**3. Insight on product categories**\n",
    "\n",
    "   - 3.1 Product description \n",
    "   - 3.2 Defining product categories \n",
    "       * 3.2.1 Data encoding\n",
    "       * 3.2.2 Clusters of products\n",
    "       * 3.2.3 Characterizing the content of clusters\n",
    "   \n",
    "**4. Customer categories**\n",
    "\n",
    "   - 4.1 Formating data\n",
    "       * 4.1.1 Grouping products \n",
    "       * 4.1.2 Time spliting of the dataset\n",
    "       * 4.1.3 Grouping orders \n",
    "   - 4.2 Creating customer categories\n",
    "       * 4.2.1 Data enconding\n",
    "       * 4.2.2 Creating categories\n",
    "\n",
    "**5. Classifying customers**\n",
    "\n",
    "   - 5.1 Support Vector Machine Classifier (SVC)\n",
    "       * 5.1.1 Confusion matrix\n",
    "       * 5.1.2 Learning curves \n",
    "   - 5.2 Logistic regression \n",
    "   - 5.3 k-Nearest Neighbors\n",
    "   - 5.4 Decision Tree\n",
    "   - 5.5 Random Forest\n",
    "   - 5.6 AdaBoost\n",
    "   - 5.7 Gradient Boosting Classifier\n",
    "   "
   ]
  },
  {
   "cell_type": "markdown",
   "metadata": {},
   "source": []
  },
  {
   "cell_type": "markdown",
   "metadata": {},
   "source": [
    "# 9. Additional examples (Optional)\n",
    "    \n",
    "\n",
    "Cluster countries according to the activity rates, gender, and age: './files/laborforce/lfsi_act_a_1_Data.csv'\n",
    "\n",
    "Sentiment analysis in movies recommendations: Kaggle competition: [When bag of words meets bags of popcorn:](https://www.kaggle.com/c/word2vec-nlp-tutorial)\n",
    "    \n",
    "\n",
    "[Visualizing the stock market structure:](http://scikit-learn.org/stable/auto_examples/applications/plot_stock_market.html)\n",
    "        \n"
   ]
  },
  {
   "cell_type": "code",
   "execution_count": null,
   "metadata": {
    "collapsed": true
   },
   "outputs": [],
   "source": [
    "from IPython.core.display import HTML\n",
    "def css_styling():\n",
    "    styles = open(\"styles/custom.css\", \"r\").read()\n",
    "    return HTML(styles)\n",
    "css_styling()\n",
    "\n",
    "import numpy as np\n",
    "np.set_printoptions(linewidth=105)"
   ]
  },
  {
   "cell_type": "code",
   "execution_count": null,
   "metadata": {
    "collapsed": true
   },
   "outputs": [],
   "source": []
  },
  {
   "cell_type": "code",
   "execution_count": null,
   "metadata": {
    "collapsed": true
   },
   "outputs": [],
   "source": []
  }
 ],
 "metadata": {
  "anaconda-cloud": {},
  "kernelspec": {
   "display_name": "Python 3",
   "language": "python",
   "name": "python3"
  },
  "language_info": {
   "codemirror_mode": {
    "name": "ipython",
    "version": 3
   },
   "file_extension": ".py",
   "mimetype": "text/x-python",
   "name": "python",
   "nbconvert_exporter": "python",
   "pygments_lexer": "ipython3",
   "version": "3.6.8"
  }
 },
 "nbformat": 4,
 "nbformat_minor": 1
}
