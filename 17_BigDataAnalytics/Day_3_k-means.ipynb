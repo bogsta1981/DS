{
 "cells": [
  {
   "cell_type": "markdown",
   "metadata": {
    "slideshow": {
     "slide_type": "slide"
    }
   },
   "source": [
    "# k-means\n",
    "\n",
    "**k-means clustering** is a method of _vector quantization_, originally from signal processing, that is popular for cluster analysis in data mining. k-means clustering aims to partition _n_ observations into _k_ clusters in which each observation belongs to the cluster with the nearest mean, serving as a prototype of the cluster. This results in a partitioning of the data space into Voronoi cells.\n",
    "\n",
    "<img src=\"images/k-means-result.jpg\" width=\"500cm\">\n",
    "\n",
    "\n",
    "The problem is **computationally difficult** (NP-hard); however, there are efficient heuristic algorithms that are commonly employed and converge quickly to a local optimum. These are usually similar to the expectation-maximization algorithm for mixtures of Gaussian distributions via an iterative refinement approach employed by both algorithms. \n",
    "\n"
   ]
  },
  {
   "cell_type": "markdown",
   "metadata": {
    "slideshow": {
     "slide_type": "slide"
    }
   },
   "source": [
    "# Description\n",
    "\n",
    "Given a set of observations $(x_1, x_2, \\dots, x_n)$, where each observation is a d-dimensional real vector, k-means clustering aims to partition the $n$ observations into $k (\\leq n)$ sets $S = \\{S_1, S_2, \\dots, S_k\\}$ so as to minimize the within-cluster sum of squares (WCSS) (sum of distance functions of each point in the cluster to the $K$ center). In other words, its objective is to find:\n",
    "\n",
    "$$\n",
    "\\operatorname {arg\\,min}_{\\mathbf {S}} \\sum _{i=1}^{k}\\sum _{\\mathbf {x} \\in S_{i}} || x - \\mu_i ||^2\n",
    "$$\n",
    "\n",
    "where $\\mu_i$ is the mean of points in $S_i$."
   ]
  },
  {
   "cell_type": "markdown",
   "metadata": {
    "slideshow": {
     "slide_type": "slide"
    }
   },
   "source": [
    "# Pseudo-code\n",
    "\n",
    "<img src=\"images/Algorithm_kmeans.png\" width=\"500cm\">\n"
   ]
  },
  {
   "cell_type": "code",
   "execution_count": null,
   "metadata": {
    "collapsed": true
   },
   "outputs": [],
   "source": []
  }
 ],
 "metadata": {
  "anaconda-cloud": {},
  "celltoolbar": "Slideshow",
  "kernelspec": {
   "display_name": "Python [tf]",
   "language": "python",
   "name": "Python [tf]"
  },
  "language_info": {
   "codemirror_mode": {
    "name": "ipython",
    "version": 3
   },
   "file_extension": ".py",
   "mimetype": "text/x-python",
   "name": "python",
   "nbconvert_exporter": "python",
   "pygments_lexer": "ipython3",
   "version": "3.5.2"
  }
 },
 "nbformat": 4,
 "nbformat_minor": 0
}
