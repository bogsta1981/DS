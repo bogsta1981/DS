{
 "cells": [
  {
   "cell_type": "markdown",
   "metadata": {},
   "source": [
    "<small><i>March 2018 - This notebook was created by [Santi Seguí](www.cvc.uab.es/people/ssegui/). Source and license info are in the folder.</i></small>"
   ]
  },
  {
   "cell_type": "markdown",
   "metadata": {},
   "source": [
    "<h1>Data Visualization with IPython</h1>\n",
    "<h4>Matplotlib</h4>\n",
    "\n",
    "The easiest way to interact with matplotlib is via pylab in iPython. By starting iPython (or iPython notebook) in \"pylab mode\", both matplotlib and numpy are pre-loaded into the iPython session:\n",
    "\n",
    "ipython notebook --pylab\n",
    "You can specify a custom graphical backend (e.g. qt, gtk, osx), but iPython generally does a good job of auto-selecting. Now matplotlib is ready to go, and you can access the matplotlib API via plt. If you do not start iPython in pylab mode, you can do this manually with the following convention:\n",
    "\n",
    "import matplotlib.pyplot as plt"
   ]
  },
  {
   "cell_type": "code",
   "execution_count": null,
   "metadata": {},
   "outputs": [],
   "source": [
    "%matplotlib inline\n",
    "import matplotlib.pyplot as plt\n",
    "import numpy as np\n",
    "from numpy.random import randn\n",
    "from scipy import stats\n",
    "import pandas as pd\n",
    "import seaborn as sns # pip install seaborn\n",
    "sns.set_palette(\"deep\", desat=.6)\n",
    "sns.set_context(rc={\"figure.figsize\": (8, 4)})\n",
    "sns.set_style(\"whitegrid\")"
   ]
  },
  {
   "cell_type": "markdown",
   "metadata": {},
   "source": [
    "<b>Data to play</b>"
   ]
  },
  {
   "cell_type": "code",
   "execution_count": null,
   "metadata": {},
   "outputs": [],
   "source": [
    "titanic = sns.load_dataset(\"titanic\")"
   ]
  },
  {
   "cell_type": "code",
   "execution_count": null,
   "metadata": {},
   "outputs": [],
   "source": [
    "#Let see how Titanic data looks like\n",
    "titanic.head()"
   ]
  },
  {
   "cell_type": "markdown",
   "metadata": {},
   "source": [
    "Some question we would like to visualize?\n",
    "* Age distribution\n",
    "* Age distribution on death vs. survived\n",
    "* Number of deads/surviveds per class?\n",
    "* Did the change to survive equal in all classes?"
   ]
  },
  {
   "cell_type": "markdown",
   "metadata": {},
   "source": [
    "<h5><b>Data Distribution</b> <br></h5>\n",
    "1 Single Variable : <b>Column Histogram</b>"
   ]
  },
  {
   "cell_type": "code",
   "execution_count": null,
   "metadata": {},
   "outputs": [],
   "source": [
    "data=pd.Series(titanic.age.values).dropna()\n",
    "plt.hist(data);\n",
    "plt.title(\"Age distribution\")\n",
    "plt.xlabel(\"Age\")\n",
    "plt.ylabel(\"# persons\")\n",
    "plt.show()"
   ]
  },
  {
   "cell_type": "markdown",
   "metadata": {},
   "source": [
    "By default histograms are plotted with 10 bins of equal size. Basically, the more bins we have the more sensitive is the plot to high-frequency patterns in the distribution."
   ]
  },
  {
   "cell_type": "code",
   "execution_count": null,
   "metadata": {},
   "outputs": [],
   "source": [
    "data=pd.Series(titanic.age.values).dropna()\n",
    "plt.hist(data, bins = 20);\n",
    "plt.title(\"Age distribution\")\n",
    "plt.xlabel(\"Age\")\n",
    "plt.ylabel(\"# persons\")\n",
    "plt.show()"
   ]
  },
  {
   "cell_type": "code",
   "execution_count": null,
   "metadata": {},
   "outputs": [],
   "source": [
    "plt.hist(data, 20, color=sns.desaturate(\"indianred\", .75), histtype='barstacked');\n",
    "plt.title(\"Age distribution\")\n",
    "plt.xlabel(\"Age\")\n",
    "plt.ylabel(\"# persons\")\n",
    "plt.show()"
   ]
  },
  {
   "cell_type": "markdown",
   "metadata": {},
   "source": [
    "1 Single Variable : ** Boxplot **"
   ]
  },
  {
   "cell_type": "code",
   "execution_count": null,
   "metadata": {},
   "outputs": [],
   "source": [
    "plt.boxplot(data, 1)\n",
    "plt.title(\"Age distribution\")\n",
    "plt.ylabel(\"# persons\")\n",
    "plt.show()"
   ]
  },
  {
   "cell_type": "markdown",
   "metadata": {},
   "source": [
    "1 Single Variable / 2 Distributions : <b>Stacked Column Histogram</b>"
   ]
  },
  {
   "cell_type": "code",
   "execution_count": null,
   "metadata": {},
   "outputs": [],
   "source": [
    "data1=pd.Series(titanic[titanic.alive==\"yes\"].age.values).dropna()\n",
    "plt.hist(data1, bins=20, color=\"#6495ED\",histtype='stepfilled', label='Survived');\n",
    "data2=pd.Series(titanic[titanic.alive==\"no\"].age.values).dropna()\n",
    "plt.hist(data2, bins=20, color=\"#F08084\",histtype='stepfilled',label='Death');\n",
    "\n",
    "plt.title(\"Age distribution\")\n",
    "plt.xlabel(\"Age\")\n",
    "plt.ylabel(\"# persons\")\n",
    "\n",
    "plt.legend(loc='best',mode=\"expand\", borderaxespad=0.)\n",
    "plt.show()"
   ]
  },
  {
   "cell_type": "markdown",
   "metadata": {},
   "source": [
    "The <b>alpha argument</b> can also be useful to see all data from both distributions"
   ]
  },
  {
   "cell_type": "code",
   "execution_count": null,
   "metadata": {},
   "outputs": [],
   "source": [
    "#Perhaps some transparency will help\n",
    "data1=pd.Series(titanic[titanic.alive==\"yes\"].age.values).dropna()\n",
    "plt.hist(data1, bins=20, color=\"#6495ED\",histtype='stepfilled', alpha=0.5, label='Survived');\n",
    "data2=pd.Series(titanic[titanic.alive==\"no\"].age.values).dropna()\n",
    "plt.hist(data2, bins=20, color=\"#F08084\",histtype='stepfilled', alpha=0.5, label='Death');\n",
    "plt.legend(loc='best',mode=\"expand\", borderaxespad=0.)\n",
    "\n",
    "plt.title(\"Age distribution\")\n",
    "plt.xlabel(\"Age\")\n",
    "plt.ylabel(\"# persons\")\n",
    "\n",
    "plt.show()"
   ]
  },
  {
   "cell_type": "code",
   "execution_count": null,
   "metadata": {},
   "outputs": [],
   "source": [
    "#And what about a normalization per class?\n",
    "data1=pd.Series(titanic[titanic.alive==\"yes\"].age.values).dropna()\n",
    "plt.hist(data1, bins=20, color=\"#6495ED\",histtype='stepfilled',alpha=0.5,normed=True);\n",
    "data2=pd.Series(titanic[titanic.alive==\"no\"].age.values).dropna()\n",
    "plt.hist(data2, bins=20, color=\"#F08084\",histtype='stepfilled',alpha=0.5,normed=True);\n",
    "plt.title(\"Age distribution\")\n",
    "plt.xlabel(\"Age\")\n",
    "plt.ylabel(\"% persons\")\n",
    "plt.show()"
   ]
  },
  {
   "cell_type": "markdown",
   "metadata": {},
   "source": [
    "Let's check how it looks with another dataset"
   ]
  },
  {
   "cell_type": "code",
   "execution_count": null,
   "metadata": {},
   "outputs": [],
   "source": [
    "data1 = stats.poisson(2).rvs(90)\n",
    "data2 = stats.poisson(5).rvs(400)"
   ]
  },
  {
   "cell_type": "code",
   "execution_count": null,
   "metadata": {},
   "outputs": [],
   "source": [
    "max_data = np.r_[data1, data2].max()\n",
    "bins = np.linspace(0, max_data, max_data + 1)\n",
    "plt.hist(data1, bins, color=\"#6495ED\",histtype='stepfilled');\n",
    "plt.hist(data2, bins, color=\"#F08084\",histtype='stepfilled');"
   ]
  },
  {
   "cell_type": "markdown",
   "metadata": {},
   "source": [
    "The <b>normed argument</b> can also be useful if you want to compare two distributions that do not have the same number of observations. Note also that bins can be a sequence of where each bin starts."
   ]
  },
  {
   "cell_type": "code",
   "execution_count": null,
   "metadata": {},
   "outputs": [],
   "source": [
    "max_data = np.r_[data1, data2].max()\n",
    "bins = np.linspace(0, max_data, max_data + 1)\n",
    "plt.hist(data1, bins, normed=True, color=\"#6495ED\",histtype='stepfilled');\n",
    "plt.hist(data2, bins, normed=True, color=\"#F08084\",histtype='stepfilled');"
   ]
  },
  {
   "cell_type": "code",
   "execution_count": null,
   "metadata": {},
   "outputs": [],
   "source": [
    "max_data = np.r_[data1, data2].max()\n",
    "bins = np.linspace(0, max_data, max_data + 1)\n",
    "plt.hist(data1, bins, normed=True, color=\"#6495ED\",alpha=0.5,histtype='stepfilled');\n",
    "plt.hist(data2, bins, normed=True, color=\"#F08084\",alpha=0.5,histtype='stepfilled');\n"
   ]
  },
  {
   "cell_type": "code",
   "execution_count": null,
   "metadata": {},
   "outputs": [],
   "source": [
    "sns.distplot(data1,bins,color=\"#6495ED\",norm_hist=True);\n",
    "sns.distplot(data2,bins,color=\"#F08084\",norm_hist=True);"
   ]
  },
  {
   "cell_type": "markdown",
   "metadata": {},
   "source": [
    "https://stanford.edu/~mwaskom/software/seaborn/tutorial/distributions.html"
   ]
  },
  {
   "cell_type": "markdown",
   "metadata": {},
   "source": [
    "<h5><b>Data Comparision</b> <br></h5>\n",
    "<b>BAR CHARTS</b> \n"
   ]
  },
  {
   "cell_type": "code",
   "execution_count": null,
   "metadata": {},
   "outputs": [],
   "source": [
    "t = titanic.groupby(['pclass']).size()\n",
    "\n",
    "plt.bar(t.index,t.values,align='center',color=sns.color_palette(\"Set2\", 3))\n",
    "plt.xticks([1,2,3], ['1st Class', '2nd Class', '3rd Class'], rotation='horizontal')\n",
    "\n",
    "plt.title('Passengers per class');\n",
    "plt.ylabel('Number of Passengers');\n",
    "plt.xlabel('');"
   ]
  },
  {
   "cell_type": "markdown",
   "metadata": {},
   "source": [
    "How to see the number of deads/surviveds per class?"
   ]
  },
  {
   "cell_type": "code",
   "execution_count": null,
   "metadata": {},
   "outputs": [],
   "source": [
    "print(titanic.groupby(['pclass', 'survived']).size())\n",
    "t = titanic.groupby(['pclass', 'survived']).size().unstack()\n",
    "print(t)\n",
    "red, blue = '#F08084', '#6495ED'\n",
    "\n",
    "plt.bar([1,2,3], t[0], color=red, label='Died' ,align='center')\n",
    "plt.bar([1,2,3], t[1], bottom=t[0], color=blue, label='Survived',align='center')\n",
    "plt.xticks([1,2,3], ['1st Class', '2nd Class', '3rd Class'], rotation='horizontal')\n",
    "\n",
    "plt.ylabel(\"Number\")\n",
    "plt.xlabel(\"\")\n",
    "plt.title(\"Passengers per class\")\n",
    "plt.legend(loc='upper left')\n",
    "plt.show()"
   ]
  },
  {
   "cell_type": "markdown",
   "metadata": {},
   "source": [
    "<h5><b>Data Composition</b> <br></h5>\n",
    "<b>Stacked 100% Column Chart</b>\n",
    "<br>If I want to visualize if the class dependes with the chances to survive:"
   ]
  },
  {
   "cell_type": "code",
   "execution_count": null,
   "metadata": {},
   "outputs": [],
   "source": [
    "#normalize each row by transposing, normalizing each column, and un-transposing\n",
    "t = (1. * t.T / t.T.sum()).T\n",
    "\n",
    "plt.bar([1,2,3], t[0], color=red, label='Died',align='center')\n",
    "plt.bar([1,2,3], t[1], bottom=t[0], color=blue, label='Survived',align='center')\n",
    "plt.xticks([1,2,3], ['1st Class', '2nd Class', '3rd Class'], rotation='horizontal')\n",
    "plt.ylabel(\"Fraction\")\n",
    "plt.xlabel(\"\")\n",
    "plt.title(\"Proportion of surviver per class\")\n",
    "plt.legend(loc=\"upper left\", bbox_to_anchor=(1,1))\n",
    "\n",
    "plt.show()"
   ]
  },
  {
   "cell_type": "markdown",
   "metadata": {},
   "source": [
    "<b>PIE CHARTS</b> "
   ]
  },
  {
   "cell_type": "code",
   "execution_count": null,
   "metadata": {},
   "outputs": [],
   "source": [
    "t = titanic.groupby(['pclass']).size()\n",
    "\n",
    "plt.subplot(121)\n",
    "plt.pie(t, labels=['1st Class', '2nd Class', '3rd Class'])\n",
    "plt.title(\"Passenger Class on the Titanic\");\n",
    "plt.subplot(122,aspect=True)\n",
    "plt.pie(t, labels=['1st Class', '2nd Class', '3rd Class'], colors=sns.color_palette(\"Set2\", 3),autopct='%i%%',startangle=90)\n",
    "plt.title(\"Passenger Class on the Titanic\");\n",
    "plt.axis('equal')\n",
    "plt.tight_layout()\n",
    "plt.show()"
   ]
  },
  {
   "cell_type": "markdown",
   "metadata": {},
   "source": [
    "## Understand flight trip.\n",
    "### 1) Flights per year"
   ]
  },
  {
   "cell_type": "code",
   "execution_count": null,
   "metadata": {},
   "outputs": [],
   "source": [
    "flights = sns.load_dataset(\"flights\")\n",
    "flights.head()"
   ]
  },
  {
   "cell_type": "code",
   "execution_count": null,
   "metadata": {},
   "outputs": [],
   "source": [
    "t = flights.groupby(['year']).sum()\n",
    "\n",
    "plt.bar(t.index,t.passengers.values,align='center')\n",
    "for x, y in zip(t.index, t.values):\n",
    "    plt.text(x, y + 60, '%d' % y, ha='center', va='bottom');\n",
    "    \n",
    "plt.xlim(1948.5,1960.5)\n",
    "plt.xticks( np.arange(1949, 1961, 1))\n",
    "plt.yticks([])\n",
    "plt.title('Flights per year');\n",
    "\n",
    "plt.ylabel('Number of flights');\n",
    "plt.xlabel('Year');"
   ]
  },
  {
   "cell_type": "markdown",
   "metadata": {},
   "source": [
    "### 2) flights per month using tables"
   ]
  },
  {
   "cell_type": "code",
   "execution_count": null,
   "metadata": {},
   "outputs": [],
   "source": [
    "flights_rect = flights.pivot(\"month\", \"year\", \"passengers\")\n",
    "flights_rect = flights_rect.ix[flights.month.iloc[:12]]\n",
    "flights_rect.head()"
   ]
  },
  {
   "cell_type": "markdown",
   "metadata": {},
   "source": [
    "### 3) flights per month using heatmaps"
   ]
  },
  {
   "cell_type": "code",
   "execution_count": null,
   "metadata": {},
   "outputs": [],
   "source": [
    "sns.heatmap(flights_rect);"
   ]
  },
  {
   "cell_type": "code",
   "execution_count": null,
   "metadata": {},
   "outputs": [],
   "source": [
    "sns.heatmap(flights_rect, annot=True, fmt=\"d\");"
   ]
  },
  {
   "cell_type": "markdown",
   "metadata": {},
   "source": [
    "<h5>Relationship of Two Variables</h5>\n",
    "<b>SCATTER PLOT</b>\n"
   ]
  },
  {
   "cell_type": "code",
   "execution_count": null,
   "metadata": {},
   "outputs": [],
   "source": [
    "N = 50\n",
    "x = np.random.rand(N)\n",
    "y = np.random.rand(N)\n",
    "colors = np.random.rand(N)\n",
    "plt.scatter(x, y, c=sns.color_palette(\"pastel\", N), alpha=0.9)\n",
    "plt.show()"
   ]
  },
  {
   "cell_type": "markdown",
   "metadata": {},
   "source": [
    "<h5>Relationship of Three Variables</h5>\n",
    "<b>Bubble Chart</b>"
   ]
  },
  {
   "cell_type": "code",
   "execution_count": null,
   "metadata": {},
   "outputs": [],
   "source": [
    "\n",
    "area = np.pi * (20 * np.random.rand(N))**2 # 0 to 20 point radiuses\n",
    "\n",
    "plt.scatter(x, y, s=area, c=sns.color_palette(\"pastel\", N), alpha=0.6)\n",
    "plt.show()"
   ]
  },
  {
   "cell_type": "markdown",
   "metadata": {},
   "source": [
    "## The presence of woman in the US Academia"
   ]
  },
  {
   "cell_type": "code",
   "execution_count": null,
   "metadata": {},
   "outputs": [],
   "source": [
    "from pandas import read_csv  \n",
    "sns.set_style(\"white\")\n",
    "# Read the data into a pandas DataFrame.  \n",
    "gender_degree_data = read_csv(\"http://www.randalolson.com/wp-content/uploads/percent-bachelors-degrees-women-usa.csv\")  "
   ]
  },
  {
   "cell_type": "code",
   "execution_count": null,
   "metadata": {},
   "outputs": [],
   "source": [
    "gender_degree_data.head()"
   ]
  },
  {
   "cell_type": "code",
   "execution_count": null,
   "metadata": {},
   "outputs": [],
   "source": [
    "#How should we display it?? Try to do some vizualization "
   ]
  },
  {
   "cell_type": "code",
   "execution_count": null,
   "metadata": {},
   "outputs": [],
   "source": []
  },
  {
   "cell_type": "markdown",
   "metadata": {},
   "source": [
    "<b>A coold Visualiation using simple LINE PLOTS</b>"
   ]
  },
  {
   "cell_type": "code",
   "execution_count": null,
   "metadata": {},
   "outputs": [],
   "source": [
    "# These are the \"Tableau 20\" colors as RGB.  \n",
    "tableau20 = [(31, 119, 180), (174, 199, 232), (255, 127, 14), (255, 187, 120),  \n",
    "             (44, 160, 44), (152, 223, 138), (214, 39, 40), (255, 152, 150),  \n",
    "             (148, 103, 189), (197, 176, 213), (140, 86, 75), (196, 156, 148),  \n",
    "             (227, 119, 194), (247, 182, 210), (127, 127, 127), (199, 199, 199),  \n",
    "             (188, 189, 34), (219, 219, 141), (23, 190, 207), (158, 218, 229)]\n",
    "#cm=sns.palplot(sns.color_palette(\"Set2\", 20))\n",
    "  \n",
    "# Scale the RGB values to the [0, 1] range, which is the format matplotlib accepts.  \n",
    "for i in range(len(tableau20)):  \n",
    "    r, g, b = tableau20[i]  \n",
    "    tableau20[i] = (r / 255., g / 255., b / 255.)  \n",
    "    \n",
    "#You typically want your plot to be ~1.33x wider than tall. This plot is a rare  \n",
    "# exception because of the number of lines being plotted on it.  \n",
    "# Common sizes: (10, 7.5) and (12, 9)  \n",
    "plt.figure(figsize=(12, 14))  \n",
    "  \n",
    "# Remove the plot frame lines. They are unnecessary chartjunk.  \n",
    "ax = plt.subplot(111)  \n",
    "ax.spines[\"top\"].set_visible(False)  \n",
    "ax.spines[\"bottom\"].set_visible(False)  \n",
    "ax.spines[\"right\"].set_visible(False)  \n",
    "ax.spines[\"left\"].set_visible(False)  \n",
    "  \n",
    "# Ensure that the axis ticks only show up on the bottom and left of the plot.  \n",
    "# Ticks on the right and top of the plot are generally unnecessary chartjunk.  \n",
    "ax.get_xaxis().tick_bottom()  \n",
    "ax.get_yaxis().tick_left()  \n",
    "  \n",
    "# Limit the range of the plot to only where the data is.  \n",
    "# Avoid unnecessary whitespace.  \n",
    "plt.ylim(0, 90)  \n",
    "plt.xlim(1968, 2014)  \n",
    "  \n",
    "# Make sure your axis ticks are large enough to be easily read.  \n",
    "# You don't want your viewers squinting to read your plot.  \n",
    "plt.yticks(range(0, 91, 10), [str(x) + \"%\" for x in range(0, 91, 10)], fontsize=14)  \n",
    "plt.xticks(fontsize=14)  \n",
    "\n",
    "# Provide tick lines across the plot to help your viewers trace along  \n",
    "# the axis ticks. Make sure that the lines are light and small so they  \n",
    "# don't obscure the primary data lines.  \n",
    "for y in range(10, 91, 10):  \n",
    "    plt.plot(range(1968, 2012), [y] * len(range(1968, 2012)), \"--\", lw=0.5, color=\"black\", alpha=0.3)  \n",
    "  \n",
    " #Remove the tick marks; they are unnecessary with the tick lines we just plotted.  \n",
    "plt.tick_params(axis=\"both\", which=\"both\", bottom=\"off\", top=\"off\",  \n",
    "                labelbottom=\"on\", left=\"off\", right=\"off\", labelleft=\"on\")  \n",
    "  \n",
    "# Now that the plot is prepared, it's time to actually plot the data!  \n",
    "# Note that I plotted the majors in order of the highest % in the final year.  \n",
    "majors = ['Health Professions', 'Public Administration', 'Education', 'Psychology',  \n",
    "          'Foreign Languages', 'English', 'Communications\\nand Journalism',  \n",
    "          'Art and Performance', 'Biology', 'Agriculture',  \n",
    "          'Social Sciences and History', 'Business', 'Math and Statistics',  \n",
    "          'Architecture', 'Physical Sciences', 'Computer Science',  \n",
    "          'Engineering']  \n",
    "  \n",
    "for rank, column in enumerate(majors):  \n",
    "    # Plot each line separately with its own color, using the Tableau 20  \n",
    "    # color set in order.  \n",
    "    plt.plot(gender_degree_data.Year.values,  \n",
    "            gender_degree_data[column.replace(\"\\n\", \" \")].values,  \n",
    "            lw=2.5, color=tableau20[rank]);\n",
    "      \n",
    "    # Add a text label to the right end of every line. Most of the code below  \n",
    "    # is adding specific offsets y position because some labels overlapped.  \n",
    "    y_pos = gender_degree_data[column.replace(\"\\n\", \" \")].values[-1] - 0.5  \n",
    "    if column == \"Foreign Languages\":  \n",
    "        y_pos += 0.5  \n",
    "    elif column == \"English\":  \n",
    "        y_pos -= 0.5  \n",
    "    elif column == \"Communications\\nand Journalism\":  \n",
    "        y_pos += 0.75  \n",
    "    elif column == \"Art and Performance\":  \n",
    "        y_pos -= 0.25  \n",
    "    elif column == \"Agriculture\":  \n",
    "        y_pos += 1.25  \n",
    "    elif column == \"Social Sciences and History\":  \n",
    "        y_pos += 0.25  \n",
    "    elif column == \"Business\":  \n",
    "        y_pos -= 0.75  \n",
    "    elif column == \"Math and Statistics\":  \n",
    "        y_pos += 0.75  \n",
    "    elif column == \"Architecture\":  \n",
    "        y_pos -= 0.75  \n",
    "    elif column == \"Computer Science\":  \n",
    "        y_pos += 0.75  \n",
    "    elif column == \"Engineering\":  \n",
    "        y_pos -= 0.25  \n",
    "      \n",
    "    # Again, make sure that all labels are large enough to be easily read  \n",
    "    # by the viewer.  \n",
    "    #text(2011.5, y_pos, column, fontsize=14)  \n",
    "    plt.text(2011.5, y_pos, column, fontsize=14, color=tableau20[rank])\n",
    "      \n",
    "# matplotlib's title() call centers the title on the plot, but not the graph,  \n",
    "# so I used the text() call to customize where the title goes.  \n",
    "  \n",
    "# Make the title big enough so it spans the entire plot, but don't make it  \n",
    "# so big that it requires two lines to show.  \n",
    "  \n",
    "# Note that if the title is descriptive enough, it is unnecessary to include  \n",
    "# axis labels; they are self-evident, in this plot's case.  \n",
    "plt.text(1995, 93, \"Percentage of Bachelor's degrees conferred to women in the U.S.A.\"  \n",
    "       \", by major (1970-2012)\", fontsize=17, ha=\"center\");\n",
    "  \n",
    "# Always include your data source(s) and copyright notice! And for your  \n",
    "# data sources, tell your viewers exactly where the data came from,  \n",
    "# preferably with a direct link to the data. Just telling your viewers  \n",
    "# that you used data from the \"U.S. Census Bureau\" is completely useless:  \n",
    "# the U.S. Census Bureau provides all kinds of data, so how are your  \n",
    "# viewers supposed to know which data set you used?  \n",
    "plt.text(1966, -8, \"Data source: nces.ed.gov/programs/digest/2013menu_tables.asp\"  \n",
    "       \"\\nAuthor: Randy Olson (randalolson.com / @randal_olson)\"  \n",
    "       \"\\nNote: Some majors are missing because the historical data \"  \n",
    "       \"is not available for them\", fontsize=10)\n",
    "\n",
    "# sample from http://www.randalolson.com/2014/06/28/how-to-make-beautiful-data-visualizations-in-python-with-matplotlib/"
   ]
  },
  {
   "cell_type": "markdown",
   "metadata": {},
   "source": [
    "## Compare features\n",
    "\n",
    "If we want to print the relation from different features of a dataset we can use the <b>Paired Plot</b> inlcuded in seaborn package"
   ]
  },
  {
   "cell_type": "markdown",
   "metadata": {},
   "source": [
    "The Iris flower data set or Fisher's Iris data set is a multivariate data set introduced by Sir Ronald Fisher (1936) as an example of discriminant analysis.\n",
    "\n",
    "The data set consists of 50 samples from each of three species of Iris (Iris setosa, Iris virginica and Iris versicolor). Four features were measured from each sample: the length and the width of the sepals and petals, in centimetres. Based on the combination of these four features, Fisher developed a linear discriminant model to distinguish the species from each other."
   ]
  },
  {
   "cell_type": "code",
   "execution_count": null,
   "metadata": {},
   "outputs": [],
   "source": [
    "iris    = sns.load_dataset(\"iris\")\n",
    "iris.head()"
   ]
  },
  {
   "cell_type": "code",
   "execution_count": null,
   "metadata": {},
   "outputs": [],
   "source": [
    "sns.pairplot(iris,  size=2.5);"
   ]
  },
  {
   "cell_type": "code",
   "execution_count": null,
   "metadata": {},
   "outputs": [],
   "source": [
    "sns.pairplot(iris,hue=\"species\", size=2.5);"
   ]
  }
 ],
 "metadata": {
  "anaconda-cloud": {},
  "kernelspec": {
   "display_name": "Python 3",
   "language": "python",
   "name": "python3"
  },
  "language_info": {
   "codemirror_mode": {
    "name": "ipython",
    "version": 3
   },
   "file_extension": ".py",
   "mimetype": "text/x-python",
   "name": "python",
   "nbconvert_exporter": "python",
   "pygments_lexer": "ipython3",
   "version": "3.6.4"
  }
 },
 "nbformat": 4,
 "nbformat_minor": 1
}
