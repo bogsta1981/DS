{
 "cells": [
  {
   "cell_type": "markdown",
   "metadata": {},
   "source": [
    "<font color='red'> \n",
    "# Computational Statistics for Data Analysis\n",
    "<font\\>"
   ]
  },
  {
   "cell_type": "markdown",
   "metadata": {},
   "source": [
    "# Index"
   ]
  },
  {
   "cell_type": "markdown",
   "metadata": {},
   "source": [
    "### 3 Probabilities. \n",
    "* 3.1 Probability rules\n",
    "* 3.2 Monte Carlo\n",
    "* 3.3 Continuous distributions"
   ]
  },
  {
   "cell_type": "markdown",
   "metadata": {},
   "source": [
    "The most common definition of **probability** is a *frequency expressed as a fraction* of the universe of possible outcomes. \n",
    "\n",
    "    Thus, it is a real value between 0 and 1 that is intended to be a measure corresponding to the idea that some things are more likely than others.\n",
    "\n",
    "**Frequentism** because it defines probability in terms of frequencies.\n",
    "\n",
    "An alternative is **Bayesianism**, which defines probability as a degree of belief that an event will occur.\n",
    "\n",
    "    - Example: What is the probability that Thaksin Shinawatra is the Prime Minister of Thailand?\n",
    "\n",
    "The *things* we assign probabilities are called **events**, $E$.  A *situation* where $E$ might or might not happen is called a **trial**.\n",
    "\n",
    "   In the case of a six-sided die, each roll is called a **trial**. If we want to compute $P(6)$, each time a 6 appears is called a **success**. Other trials are called **failures**. \n",
    "\n",
    "If in a *finite series of $n$ identical trials* we observe $s$ successes, the **probability of the success** is $s/n$.\n",
    "\n"
   ]
  },
  {
   "cell_type": "markdown",
   "metadata": {},
   "source": [
    "## 3.1 Probability Rules \n",
    "\n",
    "A rule that is not always true: $P(A \\mbox{ and } B) = P(A) P(B)$. \n",
    "\n",
    "It is true, when $A$ and $B$ are **independent**. \n",
    "$A$ and $B$ are **independent** if the fact that $A$ occurred, does not change the probability of $B$ and viceversa. Trials corresponding to tossing a coin are independent. \n",
    "\n",
    "A rule that is true when $A$ and $B$ are **not independent**: \n",
    "\n",
    "$$ P(A|B) = \\frac{P(A \\mbox{ and } B)}{P(B)}$$\n",
    "\n",
    "From that we can derive: \n",
    "\n",
    "$$P(A \\mbox{ and } B) = P(A) P(B|A) = P(B) P(A|B)$$"
   ]
  },
  {
   "cell_type": "markdown",
   "metadata": {},
   "source": [
    "**Exercises**: \n",
    "+ If I have two children, what is the probability to have 2 girls?\n",
    "+ If I have two children and we know that at least one of them is a girl, what is the probability that they are two girls?\n",
    "+ If I have two children and we know that the older one is a girl, what is the probability that they are two girls?"
   ]
  },
  {
   "cell_type": "code",
   "execution_count": 1,
   "metadata": {
    "collapsed": true
   },
   "outputs": [],
   "source": [
    "## Your solutions"
   ]
  },
  {
   "cell_type": "markdown",
   "metadata": {},
   "source": [
    "### More probability rules\n",
    "\n",
    "We say that two events are **mutually exclusive** if:\n",
    "\n",
    "$$ P(A | B) = P(B | A) = 0 $$\n",
    "\n",
    "In this case it is easy to show that:\n",
    "\n",
    "$$ P(A \\mbox{ or } B) = P(A) + P(B)$$\n",
    "\n",
    "If $A$ and $B$ are not mutually exclusive:\n",
    "\n",
    "$$ P(A \\mbox{ or } B) = P(A) + P(B) - P(A \\mbox{ and } B) $$"
   ]
  },
  {
   "cell_type": "markdown",
   "metadata": {},
   "source": [
    "**Exercises**: Counting is the most basic skill to solve probability problems.\n",
    "\n",
    "+ Q: For example, if I flip two coins, the chance of getting at least one tails is: 1/2 + 1/2?!\n",
    "+ Q: If I roll two dice and the total is 8, what is the probability that one of the dice is 6?\n",
    "+ Q: If I roll 100 dice, what is the probability of getting all sixes? \n",
    "+ Q: What is the probability of getting no sixes?\n",
    "+ Q: What is the probability of getting at least one six?\n",
    "+ Q: If I have two children, what is the probability that they are two girls?"
   ]
  },
  {
   "cell_type": "code",
   "execution_count": 2,
   "metadata": {
    "collapsed": true
   },
   "outputs": [],
   "source": [
    "#Your solution here"
   ]
  },
  {
   "cell_type": "markdown",
   "metadata": {},
   "source": [
    "## 3.2 Binomial distribution\n",
    "\n",
    "More generally, the probability distribution that represents the probability of getting $k$ times a success with probability $p$ in $n$ trials is:\n",
    "\n",
    "$$ PMF(k) = {n \\choose k} p^k (1-p)^{(n-k)}$$\n",
    "\n",
    "where ${n \\choose k} = \\frac{n!}{k!(n-k)!}$. This is called **binomial distribution**."
   ]
  },
  {
   "cell_type": "markdown",
   "metadata": {},
   "source": [
    "What is the probability of having 2 successes in 5 trials?"
   ]
  },
  {
   "cell_type": "code",
   "execution_count": 3,
   "metadata": {
    "collapsed": false
   },
   "outputs": [
    {
     "data": {
      "text/plain": [
       "10"
      ]
     },
     "execution_count": 3,
     "metadata": {},
     "output_type": "execute_result"
    }
   ],
   "source": [
    "import scipy.misc as sc\n",
    "n = 5\n",
    "k = 2\n",
    "sc.comb(n, k, exact=True) # Chances of 2 successes in 5 trials"
   ]
  },
  {
   "cell_type": "markdown",
   "metadata": {},
   "source": [
    "What is the probability of having 5 heads in 9 trials?"
   ]
  },
  {
   "cell_type": "code",
   "execution_count": 4,
   "metadata": {
    "collapsed": false
   },
   "outputs": [
    {
     "name": "stdout",
     "output_type": "stream",
     "text": [
      "The combinations of 9 on 5 are:  126\n"
     ]
    }
   ],
   "source": [
    "# chances of 5 heads in 9 tosses\n",
    "\n",
    "a = sc.comb(9, 5, exact=True)\n",
    "print('The combinations of 9 on 5 are: ', a)"
   ]
  },
  {
   "cell_type": "code",
   "execution_count": 5,
   "metadata": {
    "collapsed": false
   },
   "outputs": [
    {
     "name": "stdout",
     "output_type": "stream",
     "text": [
      "Prob:  0.24609375\n"
     ]
    }
   ],
   "source": [
    "p = 0.5\n",
    "print('Prob: ', a * p**5 * (1-p)**4)"
   ]
  },
  {
   "cell_type": "markdown",
   "metadata": {},
   "source": [
    "What is the probability of having 6 sixes in 9 trials?"
   ]
  },
  {
   "cell_type": "code",
   "execution_count": 6,
   "metadata": {
    "collapsed": false
   },
   "outputs": [
    {
     "name": "stdout",
     "output_type": "stream",
     "text": [
      "The combinations of 9 on 6 are:  84\n",
      "Prob:  0.0010419048163389725\n"
     ]
    }
   ],
   "source": [
    "#  Your solution here\n",
    "a = sc.comb(9, 6, exact=True)\n",
    "print('The combinations of 9 on 6 are: ', a)\n",
    "p = 1/6.0\n",
    "print('Prob: ', a * p**6 * (1-p)**3)"
   ]
  },
  {
   "cell_type": "markdown",
   "metadata": {},
   "source": [
    "## 3.3 Monte Carlo Experiments\n",
    "\n",
    "**Monte Carlo experiments** are a broad class of computational algorithms that rely on *repeated random sampling to obtain numerical results*. Typically, one runs simulations many times over and over in order to obtain the distribution of an unknown probabilistic entity. (*Source: Wikipedia*)"
   ]
  },
  {
   "cell_type": "markdown",
   "metadata": {},
   "source": [
    "**Trivial case**: What are the chances of getting a six in one trial?"
   ]
  },
  {
   "cell_type": "code",
   "execution_count": 7,
   "metadata": {
    "collapsed": false
   },
   "outputs": [
    {
     "name": "stdout",
     "output_type": "stream",
     "text": [
      "I got six 167037 times out of 1000000 ; Prob =  0.167037 Note that: 1/6= 0.16666666666666666\n"
     ]
    }
   ],
   "source": [
    "import random\n",
    "import sys\n",
    "N = 1000000 # perform N experiments\n",
    "M = 0 # number of times, we got 6\n",
    "for i in range(N):\n",
    "    outcome = random.randint(1, 6)\n",
    "    if outcome == 6:\n",
    "        M += 1\n",
    "Prob=M/float(N)\n",
    "print('I got six %d times out of %d' % (M, N), '; Prob = ', \n",
    "      Prob, 'Note that: 1/6=', 1/6.0)"
   ]
  },
  {
   "cell_type": "markdown",
   "metadata": {},
   "source": [
    "What are the chances of getting a six in two trials?"
   ]
  },
  {
   "cell_type": "code",
   "execution_count": 8,
   "metadata": {
    "collapsed": false
   },
   "outputs": [
    {
     "name": "stdout",
     "output_type": "stream",
     "text": [
      "Prob:  0.2777777777777778\n"
     ]
    }
   ],
   "source": [
    "#  chances of (exactly) 1 six in 2 trials\n",
    "\n",
    "a = sc.comb(2, 1, exact=True)\n",
    "p = 1/6.0\n",
    "print('Prob: ', a * p * (1-p))"
   ]
  },
  {
   "cell_type": "code",
   "execution_count": 9,
   "metadata": {
    "collapsed": false
   },
   "outputs": [
    {
     "name": "stdout",
     "output_type": "stream",
     "text": [
      "I got one six 2809 times out of 10000 ; Prob =  0.2809\n"
     ]
    }
   ],
   "source": [
    "N = 10000 # perform N experiments\n",
    "M = 0 # no of times we get one 6\n",
    "for i in range(N):\n",
    "    outcome1 = random.randint(1, 6)\n",
    "    outcome2 = random.randint(1, 6)\n",
    "    if (outcome1 == 6 and outcome2 !=6) or (outcome1 != 6 and outcome2 == 6):\n",
    "        M += 1\n",
    "print('I got one six %d times out of %d' % (M, N), \n",
    "      '; Prob = ', float(M)/N)"
   ]
  },
  {
   "cell_type": "markdown",
   "metadata": {},
   "source": [
    "**Exercise**: You throw two dice, one black and one red. What is the probability\n",
    "that the number of eyes on the black die is larger than the number of\n",
    "eyes on the red die?"
   ]
  },
  {
   "cell_type": "code",
   "execution_count": 10,
   "metadata": {
    "collapsed": false
   },
   "outputs": [
    {
     "name": "stdout",
     "output_type": "stream",
     "text": [
      "I got one six 4191 times out of 10000 ; Prob =  0.4191\n"
     ]
    }
   ],
   "source": [
    "N = 10000 # perform N experiments\n",
    "M = 0 # no of times we get one 6\n",
    "for i in range(N):\n",
    "    outcome1 = random.randint(1, 6)\n",
    "    outcome2 = random.randint(1, 6)\n",
    "    if (outcome1 > outcome2):\n",
    "        M += 1\n",
    "print('I got one six %d times out of %d' % (M, N), \n",
    "      '; Prob = ', float(M)/N)"
   ]
  },
  {
   "cell_type": "markdown",
   "metadata": {},
   "source": [
    "**A more interesting case:** If I roll a dice 100 times, what is the chance of getting at least 6 sixes in a row?"
   ]
  },
  {
   "cell_type": "code",
   "execution_count": 11,
   "metadata": {
    "collapsed": false
   },
   "outputs": [
    {
     "name": "stdout",
     "output_type": "stream",
     "text": [
      "I got 6 sixes in a row 17 times out of 10000 ; Prob =  0.0017\n"
     ]
    }
   ],
   "source": [
    "N = 10000 # perform N experiments\n",
    "M = 0 # no of times we get one 6\n",
    "T = 100\n",
    "success='666666'\n",
    "for i in range(N):\n",
    "    outcome=''\n",
    "    for i in range(T):\n",
    "        outcome=outcome+str(random.randint(1,6))\n",
    "#    print(outcome)\n",
    "    if (success in outcome):\n",
    "            M += 1\n",
    "print('I got 6 sixes in a row %d times out of %d' % (M, N), \n",
    "      '; Prob = ', float(M)/N)"
   ]
  },
  {
   "cell_type": "markdown",
   "metadata": {},
   "source": [
    "**Exercise**: What is the probability that Messi scores at least 1 goal in a row of 10 matches during a season? (Let's suppose that each match is an independent trial).\n",
    "\n",
    "**Data**: Messi scores 0.83 goals per match (323 goals in 387 matches) and CR4 scores 0.62 (329 goals in 527 matches) goals per match.\n",
    "There are 42 matches in a season. \n",
    "\n",
    "<small>(Source: https://es.answers.yahoo.com/question/index?qid=20130928103148AAFQHsC)</small>"
   ]
  },
  {
   "cell_type": "code",
   "execution_count": 12,
   "metadata": {
    "collapsed": false
   },
   "outputs": [
    {
     "name": "stdout",
     "output_type": "stream",
     "text": [
      "Cristiano got scores at least 1 goal in a row of 10 matches during a season 1089 times out of 10000 ; Prob =  0.1089\n"
     ]
    }
   ],
   "source": [
    "N = 10000 # perform N experiments\n",
    "M = 0 # no of times we get one 6\n",
    "T = 42\n",
    "Messi_score=0.83\n",
    "Cristiano_score=0.62\n",
    "success='1111111111'\n",
    "for i in range(N):\n",
    "    outcome=''\n",
    "    for i in range(T):\n",
    "        res=random.random()\n",
    "        if res<Cristiano_score:\n",
    "            outcome=outcome+'1'\n",
    "        else: outcome=outcome+'0'\n",
    "    if (success in outcome):\n",
    "            M += 1\n",
    "print('Cristiano got scores at least 1 goal in a row of 10 matches during a season %d times out of %d' % (M, N), \n",
    "      '; Prob = ', float(M)/N)"
   ]
  },
  {
   "cell_type": "markdown",
   "metadata": {},
   "source": [
    "## 3.4 Continous distributions\n",
    "\n",
    "So far, we have built **empirical distributions** (which represent the distributions of values in a sample), based on observations, but many real problems are well approximated by fitting **continous distributions functions (CDF)**. \n",
    "\n",
    "They are called in this way because the distribution is described by an analytic continuous function."
   ]
  },
  {
   "cell_type": "markdown",
   "metadata": {},
   "source": [
    "**Why continous models?**\n",
    "- Abstractions that leave out irrelevant details.\n",
    "- Data compression.\n",
    "- Generating random numbers.\n",
    "- Comparing distributions.\n",
    "- Related to a natural phenomenon -> insight."
   ]
  },
  {
   "cell_type": "markdown",
   "metadata": {},
   "source": [
    "### 3.4.1 The exponential distribution\n",
    "\n",
    "The CDF of the exponential distribution is:\n",
    "\n",
    "$$ CDF(x) = 1 -  \\exp^{- \\lambda x}$$ \n",
    "\n",
    "The derivative of a CDF is called a **probability density function**, or PDF.\n",
    "The PDF of the exponential distribution is:\n",
    "\n",
    "$$ PDF(x) = \\lambda \\exp^{- \\lambda x}$$\n",
    "\n",
    "The parameter $\\lambda$ determines the shape of the distribution, the mean of the distribution is $1/\\lambda$ and its variance is $1/\\lambda^2$. The median is $ln(2)/\\lambda$."
   ]
  },
  {
   "cell_type": "markdown",
   "metadata": {},
   "source": [
    "**Note**: The PDF is defined only for continuous random variables.The values that are given are a range of possible values that gives the probability of the random variable that falls within that range. For example, what is the weight of females in California from the ages of eighteen to twenty-five.\n",
    "\n"
   ]
  },
  {
   "cell_type": "markdown",
   "metadata": {},
   "source": [
    "<center><img src='images/PDF CDF.png'></center>"
   ]
  },
  {
   "cell_type": "markdown",
   "metadata": {},
   "source": [
    "In real applications, exponential distributions appear when we have a series of events and estimate the events times, called **interarrival times**. When the events are *equally likely* to occur at any time, the interarrival times distribution used to get exponential distribution."
   ]
  },
  {
   "cell_type": "markdown",
   "metadata": {},
   "source": [
    "As an example, the following figure shows the CDF of the interarrival times of birth in an Australian hospital. 44 births were registered in 24 hours, so the rate is $\\lambda=0.0306$ births/minute. The mean of the exponential distribution is $1/\\lambda$, so the mean time between births is 32.7 minutes. How do you get them?"
   ]
  },
  {
   "cell_type": "markdown",
   "metadata": {},
   "source": [
    "<center><img src='images/interarrivaltimes.png'></center>"
   ]
  },
  {
   "cell_type": "code",
   "execution_count": 13,
   "metadata": {
    "collapsed": false
   },
   "outputs": [
    {
     "data": {
      "image/png": "[encoded data removed]",
      "text/plain": [
       "<matplotlib.figure.Figure at 0x9569080>"
      ]
     },
     "metadata": {},
     "output_type": "display_data"
    }
   ],
   "source": [
    "import numpy as np\n",
    "import matplotlib.pyplot as plt\n",
    "%matplotlib inline\n",
    "\n",
    "l = 0.0306\n",
    "x=np.arange(0,160,1)\n",
    "y= 1 - np.exp(-l*x)\n",
    "plt.plot(x,y,'-')\n",
    "plt.title('Exponential CDF: $\\lambda$ =%.2f' % l ,fontsize=15)\n",
    "plt.xlabel('x',fontsize=15)\n",
    "plt.ylabel('CDF',fontsize=15)\n",
    "plt.show()"
   ]
  },
  {
   "cell_type": "markdown",
   "metadata": {},
   "source": [
    "Visualize the CDF of the Australian birhts."
   ]
  },
  {
   "cell_type": "code",
   "execution_count": 15,
   "metadata": {
    "collapsed": false
   },
   "outputs": [
    {
     "data": {
      "image/png": "[encoded data removed]",
      "text/plain": [
       "<matplotlib.figure.Figure at 0x9570710>"
      ]
     },
     "metadata": {},
     "output_type": "display_data"
    }
   ],
   "source": [
    "import numpy as np\n",
    "import matplotlib.pyplot as plt\n",
    "%matplotlib inline\n",
    "\n",
    "l = 0.030555555555555555\n",
    "x=np.arange(0,160,1)\n",
    "y= 1 - np.exp(-l*x)\n",
    "plt.plot(x,y,'-')\n",
    "plt.title('Exponential CDF: $\\lambda$ =%.2f' % l ,fontsize=15)\n",
    "plt.xlabel('x',fontsize=15)\n",
    "plt.ylabel('CDF',fontsize=15)\n",
    "plt.show()"
   ]
  },
  {
   "cell_type": "code",
   "execution_count": 16,
   "metadata": {
    "collapsed": false
   },
   "outputs": [
    {
     "data": {
      "image/png": "[encoded data removed]",
      "text/plain": [
       "<matplotlib.figure.Figure at 0x9d84da0>"
      ]
     },
     "metadata": {},
     "output_type": "display_data"
    }
   ],
   "source": [
    "from __future__ import division\n",
    "import numpy as np\n",
    "import scipy.stats as stats\n",
    "\n",
    "l = 0.030555555555555555\n",
    "x=np.arange(0,160,1)\n",
    "y= l * np.exp(-l*x)\n",
    "plt.plot(x,y,'-')\n",
    "plt.title('Exponential PDF: $\\lambda$ =%.2f' % l, fontsize=15)\n",
    "plt.xlabel('x', fontsize=15)\n",
    "plt.ylabel('PDF', fontsize=15)\n",
    "plt.show()"
   ]
  },
  {
   "cell_type": "markdown",
   "metadata": {},
   "source": [
    "There are a lot of real world events that can be described with this distribution.\n",
    "* The time until a radioactive particle decays,\n",
    "* The time it takes before your next telephone call,\n",
    "* The time until default (on payment to company debt holders) in reduced form credit risk modeling.\n"
   ]
  },
  {
   "cell_type": "markdown",
   "metadata": {},
   "source": [
    "The random variable $X$ of the lifelengths of some batteries is associated with a probability density function of the form:\n",
    "\n",
    "$$ PDF(x) = \\frac{1}{4} \\exp^{- \\frac{x}{4}}$$ "
   ]
  },
  {
   "cell_type": "code",
   "execution_count": 17,
   "metadata": {
    "collapsed": false
   },
   "outputs": [
    {
     "data": {
      "image/png": "[encoded data removed]",
      "text/plain": [
       "<matplotlib.figure.Figure at 0x99d3898>"
      ]
     },
     "metadata": {},
     "output_type": "display_data"
    }
   ],
   "source": [
    "l = 0.25\n",
    "x=np.arange(0,25,0.1)\n",
    "y= l * np.exp(-l*x)\n",
    "plt.plot(x,y,'-')\n",
    "plt.title('Exponential: $\\lambda$ =%.2f' % l ,fontsize=15)\n",
    "plt.xlabel('x',fontsize=15)\n",
    "plt.ylabel('PDF',fontsize=15)\n",
    "plt.show()"
   ]
  },
  {
   "cell_type": "markdown",
   "metadata": {},
   "source": [
    "### 5. Main reference\n",
    "*Think Stats: Probability and Statistics for Programmers*, by Allen B. Downey, published by O'Reilly Media.\n",
    "http://www.greenteapress.com/thinkstats/"
   ]
  },
  {
   "cell_type": "code",
   "execution_count": null,
   "metadata": {
    "collapsed": true
   },
   "outputs": [],
   "source": []
  },
  {
   "cell_type": "code",
   "execution_count": null,
   "metadata": {
    "collapsed": true
   },
   "outputs": [],
   "source": []
  }
 ],
 "metadata": {
  "kernelspec": {
   "display_name": "Python 2",
   "language": "python",
   "name": "python2"
  },
  "language_info": {
   "codemirror_mode": {
    "name": "ipython",
    "version": 2
   },
   "file_extension": ".py",
   "mimetype": "text/x-python",
   "name": "python",
   "nbconvert_exporter": "python",
   "pygments_lexer": "ipython2",
   "version": "2.7.11"
  }
 },
 "nbformat": 4,
 "nbformat_minor": 1
}
