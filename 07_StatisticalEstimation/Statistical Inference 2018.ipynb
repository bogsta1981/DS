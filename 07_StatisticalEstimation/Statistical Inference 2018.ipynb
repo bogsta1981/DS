{
 "cells": [
  {
   "cell_type": "markdown",
   "metadata": {},
   "source": [
    "# Statistical Inference"
   ]
  },
  {
   "cell_type": "code",
   "execution_count": 1,
   "metadata": {},
   "outputs": [
    {
     "data": {
      "text/html": [
       "\n",
       "        <iframe\n",
       "            width=\"700\"\n",
       "            height=\"750\"\n",
       "            src=\"https://goo.gl/QMeR4j\"\n",
       "            frameborder=\"0\"\n",
       "            allowfullscreen\n",
       "        ></iframe>\n",
       "        "
      ],
      "text/plain": [
       "<IPython.lib.display.IFrame at 0x111991400>"
      ]
     },
     "execution_count": 1,
     "metadata": {},
     "output_type": "execute_result"
    }
   ],
   "source": [
    "from IPython.display import IFrame\n",
    "IFrame('https://goo.gl/QMeR4j', width=700, height=750)"
   ]
  },
  {
   "cell_type": "markdown",
   "metadata": {},
   "source": [
    "# Statistical Inference.\n",
    "\n",
    "**Descriptive statistics** describe a sample, **inferential statistics** infer predictions about a population.\n",
    "\n",
    "**Statistical inference** deals with understanding the quality of parameter estimates of a sample.\n",
    "\n",
    "Statistical inference produces **statistical propositions** about:\n",
    "\n",
    "+ point estimates (a particular value that best approximates some parameter of interest), \n",
    "+ confidence intervals (or set estimate) or \n",
    "+ the rejection of a hypothesis.\n",
    "\n",
    "Statistical inference is based on assumptions related to a statistical model or sampling process. Correct inference requires these assumptions to be correct.\n",
    "\n",
    "In this session we will develop the **frequentist inference paradigm**. It bases the production of propositions by considering repeated sampling of a population. **P-values and confidence intervals are its most common propositions**."
   ]
  },
  {
   "cell_type": "markdown",
   "metadata": {},
   "source": [
    "### Frequentist paradigm assumptions vs Bayesian paradigm assumptions.\n",
    "\n",
    "There are two main approaches to statistical inference: Frequentist and Bayesian.\n",
    "\n",
    "Frequentist assumptions:\n",
    "\n",
    "+ Data are a repeatable random sample - there is a frequency.\n",
    "+ Underlying assumptions remain constant during this repeatable process; \n",
    "+ Parameters are fixed.\n",
    "\n",
    "Bayesian assumptions:\n",
    "\n",
    "+ Data are observed from a realized sample.\n",
    "+ Parameters are unknown and described probabilistically.\n",
    "+ Data are fixed.\n",
    "\n",
    " "
   ]
  },
  {
   "cell_type": "markdown",
   "metadata": {},
   "source": [
    "### Reminder\n",
    "\n",
    "After exploring the data and computing some descriptive statistics from the *National Survey of Family Growth (NSFG)* we have seem some **apparent effects** that seem to support a hypothesis: *The mean pregnant lenght for first babies is larger than for other babies*.\n",
    "\n",
    "But there are still **important** questions to be solved:\n",
    "\n",
    "+ What is the probability that **a result is caused by chance** (due to the particular sample)? \n",
    "+ Is it **statistically significant**?\n",
    "+ Is it **relevant**?"
   ]
  },
  {
   "cell_type": "code",
   "execution_count": 3,
   "metadata": {},
   "outputs": [
    {
     "name": "stdout",
     "output_type": "stream",
     "text": [
      "First babies mean: 38.60095173351461 STD: 2.7919014146686947\n"
     ]
    }
   ],
   "source": [
    "file = open('files/2002FemPreg.dat', 'r')\n",
    "\n",
    "def chr_int(a):\n",
    "    if a == '  ':\n",
    "        return 0\n",
    "    else:\n",
    "        return int(a)\n",
    "        \n",
    "preg=[]\n",
    "for line in file:\n",
    "    lst  = [int(line[:12]), int(line[274:276]), int(line[276]), \\\n",
    "                 chr_int(line[277:279]), float(line[422:440])]\n",
    "    preg.append(lst)\n",
    "    \n",
    "import pandas as pd\n",
    "df = pd.DataFrame(preg)\n",
    "df.columns = ['caseid', 'prglength', 'outcome', 'birthord', 'finalwgt']\n",
    "firstbirth = df[(df.outcome == 1) & (df.birthord == 1)]\n",
    "othersbirth = df[(df.outcome == 1) & (df.birthord >= 2)]\n",
    "\n",
    "# descriptive statistics\n",
    "muf = firstbirth['prglength'].mean()\n",
    "stdf = firstbirth['prglength'].std()\n",
    "\n",
    "print('First babies mean:',muf, 'STD:',stdf)"
   ]
  },
  {
   "cell_type": "code",
   "execution_count": 4,
   "metadata": {},
   "outputs": [
    {
     "name": "stdout",
     "output_type": "stream",
     "text": [
      "Other babies mean: 38.52291446673706 STD: 2.615852350439255\n"
     ]
    }
   ],
   "source": [
    "muo = othersbirth['prglength'].mean()\n",
    "stdo = othersbirth['prglength'].std()\n",
    "print('Other babies mean:', muo, 'STD:',stdo)"
   ]
  },
  {
   "cell_type": "markdown",
   "metadata": {},
   "source": [
    "## Variability in estimates.\n",
    "\n",
    "Descriptive statistics are not equal to the *truth* but they are better as more data become available. \n",
    "\n",
    "Moreover, they vary from one sample to another. It would be useful to know how variable they are from one sample to another!"
   ]
  },
  {
   "cell_type": "markdown",
   "metadata": {},
   "source": [
    "### Point estimates\n",
    "\n",
    "Let's suppose that we want to estimate the *population mean* based on the sample. \n",
    "\n",
    "The most intuitive\n",
    "way to go about doing this is to simply take the *sample mean*. The sample mean is a **point estimate of the population mean**. If we can only choose one value to estimate the population mean, this is our best guess.\n",
    "\n",
    "We can generate point estimates of other population parameters, such as the *population median* or *population standard deviation*.\n",
    "\n",
    "Estimates generally vary from one sample to another, and this sampling variation suggests our estimate may be close, but it will not be exactly equal to the parameter."
   ]
  },
  {
   "cell_type": "code",
   "execution_count": 6,
   "metadata": {},
   "outputs": [
    {
     "name": "stdout",
     "output_type": "stream",
     "text": [
      "38.60095173351461\n"
     ]
    }
   ],
   "source": [
    "%matplotlib inline\n",
    "\n",
    "import matplotlib.pylab as plt\n",
    "import numpy as np\n",
    "\n",
    "running_mean = np.array([0.0] * (len(firstbirth['prglength'])+1))\n",
    "running_mean[0] = firstbirth['prglength'].values[0]\n",
    "\n",
    "i = 1\n",
    "for x in firstbirth['prglength']:\n",
    "    running_mean[i] = running_mean[i-1] + x\n",
    "    i += 1\n",
    "    \n",
    "running_mean = running_mean / np.array(range(1,len(firstbirth['prglength'])+2))\n",
    "mean = running_mean[len(firstbirth['prglength'])-1]\n",
    "print(mean)"
   ]
  },
  {
   "cell_type": "markdown",
   "metadata": {},
   "source": [
    "### Sample mean distribution\n",
    "\n",
    "In our case, if we consider the full dataset a population, we can built the **empirical distribution of the sample mean** for a given number of observations (f.e. samples with 1000 observations)."
   ]
  },
  {
   "cell_type": "code",
   "execution_count": 7,
   "metadata": {},
   "outputs": [],
   "source": [
    "df = firstbirth['prglength']     # population\n",
    "\n",
    "N_test = 10000                   # number of different samples from the population\n",
    "elements = 1000                  # number of observations in each sample\n",
    "means = [0] * N_test             # samples' mean array\n",
    "\n",
    "for i in range(N_test):          # sample generation\n",
    "    rows = np.random.choice(df.index.values, elements)\n",
    "    sampled_df = df.loc[rows]\n",
    "    means[i]=sampled_df.mean()"
   ]
  },
  {
   "cell_type": "code",
   "execution_count": 8,
   "metadata": {},
   "outputs": [
    {
     "data": {
      "image/png": "[encoded data removed]",
      "text/plain": [
       "<Figure size 864x288 with 1 Axes>"
      ]
     },
     "metadata": {},
     "output_type": "display_data"
    }
   ],
   "source": [
    "#fig, ax = plt.subplots(1, 1, figsize=(12, 4))\n",
    "\n",
    "with plt.style.context('ggplot'):\n",
    "    plt.figure(figsize=(12,4))\n",
    "    plt.hist(means,bins=30)\n",
    "    \n",
    "plt.show()"
   ]
  },
  {
   "cell_type": "markdown",
   "metadata": {},
   "source": [
    "We can use this empirical distribution to give sound answers to a series of interesting questions:\n",
    "\n",
    "+ What is the uncertainty of the sample mean?\n",
    "+ What is the probability of getting a sample mean $\\geq$ than $x$? Or in other words, is a given sample mean probable?\n",
    "+ Etc. \n",
    "\n",
    "That is, we can produce statistical propositions!"
   ]
  },
  {
   "cell_type": "markdown",
   "metadata": {},
   "source": [
    ">The **sampling distribution** represents the distribution of a point estimate based\n",
    "on samples of a *fixed size* from a certain population. \n",
    "\n",
    "It is useful to think of a particular\n",
    "point estimate as being drawn from such a distribution. Understanding the concept of a sampling distribution is central to understanding statistical inference.\n"
   ]
  },
  {
   "cell_type": "markdown",
   "metadata": {},
   "source": [
    "### Standard error of the mean\n",
    "\n",
    "If we do not have access to the population, the sampling distribution can not be built empirically, but it can be mathematically shown that given $n$ independent observations $\\{ x_i \\}_{i=1,..,n}$ from a population with a standard deviation $\\sigma_x$, the standard deviation of the sample mean $\\sigma_{\\bar{x}}$, or **standard error** is:\n",
    "\n",
    "$$ SE = \\frac{\\sigma_{x}}{\\sqrt{n}} $$\n",
    "\n",
    "This allows **to estimate the standard deviation of the sample mean** if we don't perform the simulation process (f.e. because we have no access to the population).\n",
    "\n",
    "Usually, $\\sigma_x$ is not known and it is substituted by its empirical estimate (that is sufficiently good of $n>30$ and the population distribution is not skewed)."
   ]
  },
  {
   "cell_type": "code",
   "execution_count": 9,
   "metadata": {},
   "outputs": [
    {
     "name": "stdout",
     "output_type": "stream",
     "text": [
      "Standard error of the mean using the real SE of the population  : 0.08828767472999308\n",
      "Standard error using an emprirical estimate of the population SE: 0.09135053870077034\n",
      "Estimation of the standard error by simulation                  : 0.08838678455012376\n"
     ]
    }
   ],
   "source": [
    "import math\n",
    "\n",
    "rows = np.random.choice(df.index.values, 1000)\n",
    "sampled_df = df.loc[rows]\n",
    "\n",
    "sigma_mean = df.std()/math.sqrt(1000)\n",
    "est_sigma_mean = sampled_df.std()/math.sqrt(1000)\n",
    "\n",
    "print('Standard error of the mean using the real SE of the population  :', sigma_mean)\n",
    "print('Standard error using an emprirical estimate of the population SE:', est_sigma_mean)\n",
    "print('Estimation of the standard error by simulation                  :', np.array(means).std())"
   ]
  },
  {
   "cell_type": "markdown",
   "metadata": {},
   "source": [
    "By simulation, we could also quantify the standard deviation of other estimates: median, standard deviation, etc. But this is not a real alternative for real problems because we do not have access to the population. Moreover, we do not know any simple mathematical approximation to these values."
   ]
  },
  {
   "cell_type": "markdown",
   "metadata": {},
   "source": [
    "### Example: Is this coin biased?\n",
    "\n",
    "A statistical statement appeared in “The Guardian\" on Friday January 4, 2002:\n",
    "\n",
    ">When spun on edge 250 times, a Belgian one-euro coin came up heads 140 times and tails 110. ‘It looks very suspicious to me,’ said Barry Blight, a statistics lecturer at the London School of Economics. ‘If the coin were unbiased, the chance of getting a result as extreme as that would be less than 7%.’\n",
    "\n",
    "But do these data give evidence that the coin is biased rather than fair?"
   ]
  },
  {
   "cell_type": "code",
   "execution_count": 10,
   "metadata": {},
   "outputs": [
    {
     "name": "stdout",
     "output_type": "stream",
     "text": [
      "0.56\n"
     ]
    }
   ],
   "source": [
    "mean = 140.0/250\n",
    "print(mean)"
   ]
  },
  {
   "cell_type": "markdown",
   "metadata": {},
   "source": [
    "What is the probability of getting this result in the case of a fair coin?\n",
    "\n",
    "In this case we know how to **simulate the events** and we can built the sample mean distribution."
   ]
  },
  {
   "cell_type": "code",
   "execution_count": 11,
   "metadata": {},
   "outputs": [
    {
     "data": {
      "image/png": "[encoded data removed]",
      "text/plain": [
       "<Figure size 864x288 with 1 Axes>"
      ]
     },
     "metadata": {},
     "output_type": "display_data"
    }
   ],
   "source": [
    "import numpy as np\n",
    "n = 1000000\n",
    "\n",
    "means = [0]*n\n",
    "\n",
    "for i in range(n):\n",
    "    trials = np.random.randint(2,size=250)\n",
    "    means[i] = trials.mean() + np.random.normal(0.0, 0.1)  # adding noise for visualization purposes\n",
    "\n",
    "with plt.style.context('ggplot'):\n",
    "    plt.figure(figsize=(12,4))\n",
    "    plt.hist(means, 150)\n",
    "plt.show()"
   ]
  },
  {
   "cell_type": "markdown",
   "metadata": {},
   "source": [
    "Once we have the sample mean distribution, we can compute the probability of getting our result (or even a more extreme result)."
   ]
  },
  {
   "cell_type": "code",
   "execution_count": 12,
   "metadata": {},
   "outputs": [
    {
     "data": {
      "image/png": "[encoded data removed]",
      "text/plain": [
       "<Figure size 864x288 with 1 Axes>"
      ]
     },
     "metadata": {},
     "output_type": "display_data"
    }
   ],
   "source": [
    "with plt.style.context('ggplot'):\n",
    "    plt.figure(figsize=(12,4))\n",
    "    plt.hist(means,bins=250)\n",
    "    plt.axvline(x=0.56, color = 'b', linewidth=2)\n",
    "    plt.draw()\n",
    "    \n",
    "plt.show()"
   ]
  },
  {
   "cell_type": "code",
   "execution_count": 13,
   "metadata": {},
   "outputs": [
    {
     "name": "stdout",
     "output_type": "stream",
     "text": [
      "0.283559\n"
     ]
    }
   ],
   "source": [
    "M=0.0\n",
    "for i in range(n):\n",
    "    if (means[i] >= 0.56): M += 1\n",
    "print(M/n)"
   ]
  },
  {
   "cell_type": "markdown",
   "metadata": {},
   "source": [
    "The probability of getting a sample mean $\\geq 0.56$  is $3 \\%$ in the case of a fair coin. \n",
    "\n",
    "Depending on our beliefs, we can now to give an answer to the original question. For example: *I consider that getting a sample mean with a probability of $3\\%$ is not sufficient to consider that the coin is not fair.*"
   ]
  },
  {
   "cell_type": "markdown",
   "metadata": {},
   "source": [
    "### Bootstraping\n",
    "\n",
    "In statistics, bootstrapping can refer to any test or metric that relies on **random sampling with replacement**. \n",
    "\n",
    "Bootstrapping allows assigning measures of accuracy (defined in terms of bias, variance, etc.) to sample estimates (mean, median, SE, etc). \n",
    "\n",
    "The simplest bootstrap method involves taking an original data set of $N$ values, and sampling from it to form a new sample (called a 'resample' or bootstrap sample) that is also of size $N$. \n",
    "\n",
    "The bootstrap sample is taken from the original using sampling with replacement so, assuming $N$ is sufficiently large, for all practical purposes there is virtually zero probability that it will be identical to the original \"real\" sample. \n",
    "\n",
    "This process is repeated a large number of times (typically 1,000 or 10,000 times), and for each of these bootstrap samples we compute the desired estimate (each of these are called bootstrap estimates). We now have a histogram of bootstrap estimates. This provides an estimate of the shape of the distribution of the mean from which we can answer questions about how much the mean varies.\n",
    "\n",
    "(Source: Wikipedia)\n",
    "\n"
   ]
  },
  {
   "cell_type": "code",
   "execution_count": 14,
   "metadata": {},
   "outputs": [
    {
     "name": "stdout",
     "output_type": "stream",
     "text": [
      "38.60288684066081 0.6380846577114352\n"
     ]
    },
    {
     "data": {
      "image/png": "[encoded data removed]",
      "text/plain": [
       "<Figure size 864x288 with 1 Axes>"
      ]
     },
     "metadata": {},
     "output_type": "display_data"
    }
   ],
   "source": [
    "import numpy as np\n",
    "import matplotlib.pyplot as plt\n",
    "%matplotlib inline\n",
    "\n",
    "xbar = [0]*10000\n",
    "X = np.array(df)\n",
    "\n",
    "for i in range(10000):\n",
    "    sample = [X[_] for _ in np.random.randint(len(X), size=20)]\n",
    "    xbar[i] = np.mean(sample) + np.random.normal(0.0, 0.1)  # adding noise for visualization purposes\n",
    "\n",
    "print(np.mean(xbar), np.std(xbar))\n",
    "with plt.style.context('ggplot'):    \n",
    "    plt.figure(figsize=(12,4))\n",
    "    plt.hist(xbar, bins=100)"
   ]
  },
  {
   "cell_type": "markdown",
   "metadata": {},
   "source": [
    "## Exercise\n",
    "\n",
    "Let's consider a dataset of accidents in Barcelona in 2013. This dataset can be download from OpenDataBCN website (http://opendata.bcn.cat/), Barcelona's City Hall open data service. Each register in the dataset represents an accident by a series of features: weekday, hour, address, number of dead and injured people, etc. This dataset will represent our population: the set of all reported tra\u000ec accidents in Barcelona during 2013.\n",
    "In https://dieguico.cartodb.com/viz/50b06d8c-13ab-11e5-8619-0e4fddd5de28/public_map you can visualize a map of accidents in the city of Barcelona by hour of day, and by day of week."
   ]
  },
  {
   "cell_type": "code",
   "execution_count": 15,
   "metadata": {},
   "outputs": [
    {
     "name": "stdout",
     "output_type": "stream",
     "text": [
      "Index(['Número d'expedient', 'Codi districte', 'Nom districte', 'NK barri',\n",
      "       'Nom barri', 'Codi carrer', 'Nom carrer', 'Num postal caption',\n",
      "       'Descripció dia setmana', 'Dia de setmana', 'Descripció tipus dia',\n",
      "       'NK Any', 'Mes de any', 'Nom mes', 'Dia de mes', 'Hora de dia',\n",
      "       'Descripció torn', 'Descripció causa vianant', 'Número de morts',\n",
      "       'Número de lesionats lleus', 'Número de lesionats greus',\n",
      "       'Número de víctimes', 'Número de vehicles implicats',\n",
      "       'Coordenada UTM (Y)', 'Coordenada UTM (X)'],\n",
      "      dtype='object')\n"
     ]
    }
   ],
   "source": [
    "import matplotlib.pylab as plt\n",
    "from matplotlib import cm\n",
    "import math\n",
    "import pandas as pd\n",
    "import numpy as np\n",
    "import random\n",
    "\n",
    "%matplotlib inline \n",
    "plt.style.use('seaborn-whitegrid')\n",
    "plt.rc('text', usetex=True)\n",
    "plt.rc('font', family='times')\n",
    "plt.rc('xtick', labelsize=10) \n",
    "plt.rc('ytick', labelsize=10) \n",
    "plt.rc('font', size=12) \n",
    "\n",
    "data = pd.read_csv(\"files/ACCIDENTS_GU_BCN_2013.csv\", encoding='latin-1')\n",
    "print(data.columns)"
   ]
  },
  {
   "cell_type": "markdown",
   "metadata": {},
   "source": [
    "We will create a new data column which is the date and a list with the number of accidents for every day of the year:"
   ]
  },
  {
   "cell_type": "code",
   "execution_count": 16,
   "metadata": {},
   "outputs": [
    {
     "name": "stdout",
     "output_type": "stream",
     "text": [
      "Mean: 25.90958904109589\n"
     ]
    }
   ],
   "source": [
    "#Create a new column which is the date\n",
    "#data['Date'] = '2013-'+data['Mes de any'].apply(lambda x : str(x)) + '-' +  data['Dia de mes'].apply(lambda x : str(x))\n",
    "data['Date'] = '2013-'+data['Mes de any'].apply(lambda x : str(x)) + '-' +  data['Dia de mes'].apply(lambda x : str(x))\n",
    "\n",
    "data['Date'] = pd.to_datetime(data['Date'])\n",
    "accidents = data.groupby(['Date']).size()\n",
    "print(\"Mean:\", accidents.mean())"
   ]
  },
  {
   "cell_type": "markdown",
   "metadata": {},
   "source": [
    "Let's suppose that we are interested in describing the number of daily traffic accidents (accident rate) in the streets of Barcelona during 2013. In order to get a first idea of the data, we can plot the number of accidents for each day of 2013:"
   ]
  },
  {
   "cell_type": "code",
   "execution_count": 21,
   "metadata": {},
   "outputs": [
    {
     "data": {
      "text/plain": [
       "<Figure size 864x288 with 0 Axes>"
      ]
     },
     "metadata": {},
     "output_type": "display_data"
    },
    {
     "data": {
      "image/png": "[encoded data removed]",
      "text/plain": [
       "<Figure size 864x360 with 1 Axes>"
      ]
     },
     "metadata": {},
     "output_type": "display_data"
    }
   ],
   "source": [
    "with plt.style.context('ggplot'):    \n",
    "    csfont = {'fontname':'Helvetica'}\n",
    "    plt.figure(figsize=(12,4))\n",
    "    fig, ax = plt.subplots(1, 1, figsize=(12, 5))\n",
    "    plt.ylabel('Number of accidents',**csfont)\n",
    "    plt.xlabel('Day',**csfont)\n",
    "    plt.plot(range(0, 365), np.array(accidents), 'g-+', lw=0.7, alpha=0.7)\n",
    "    plt.plot(range(0, 365), [accidents.mean()]*365, 'r-', lw=0.7, alpha=0.9)\n",
    "    plt.show()"
   ]
  },
  {
   "cell_type": "markdown",
   "metadata": {},
   "source": [
    "Alternatively, we can plot the distribution of our variable of interest: the daily number of accidents."
   ]
  },
  {
   "cell_type": "code",
   "execution_count": 22,
   "metadata": {},
   "outputs": [
    {
     "data": {
      "image/png": "[encoded data removed]",
      "text/plain": [
       "<Figure size 864x288 with 1 Axes>"
      ]
     },
     "metadata": {},
     "output_type": "display_data"
    }
   ],
   "source": [
    "with plt.style.context('ggplot'):    \n",
    "    fig, ax = plt.subplots(1, 1, figsize=(12, 4))\n",
    "    plt.ylabel('Frequency')\n",
    "    plt.xlabel('Number of accidents')\n",
    "    plt.hist(np.array(accidents), bins=20)\n",
    "    ax.axvline(x=accidents.mean(), ymin=0, ymax=40, color=[0, 0, 1])\n",
    "    plt.savefig(\"bootmean.png\",dpi=300, bbox_inches='tight')\n",
    "    plt.show()"
   ]
  },
  {
   "cell_type": "markdown",
   "metadata": {},
   "source": [
    "If we have access to the whole *population*, the computation of the **accident rate** in 2013 is a simple operation: the total number of accidents divided by 365."
   ]
  },
  {
   "cell_type": "code",
   "execution_count": 23,
   "metadata": {},
   "outputs": [
    {
     "name": "stdout",
     "output_type": "stream",
     "text": [
      "Mean: 25.90958904109589\n"
     ]
    }
   ],
   "source": [
    "print(\"Mean:\", accidents.mean())"
   ]
  },
  {
   "cell_type": "markdown",
   "metadata": {},
   "source": [
    "But let's suppose that we have only access to a limited part of the data\n",
    "(the *sample*): the number of accidents during *some days* of 2013. "
   ]
  },
  {
   "cell_type": "code",
   "execution_count": 24,
   "metadata": {},
   "outputs": [],
   "source": [
    "df = accidents.to_frame()   \n",
    "rows = np.random.choice(df.index.values, 200)\n",
    "sampled_df = df.loc[rows]"
   ]
  },
  {
   "cell_type": "markdown",
   "metadata": {},
   "source": [
    "+ Compute an approximation of the population mean by using a point estimator of the mean and its standard deviation?"
   ]
  },
  {
   "cell_type": "code",
   "execution_count": 25,
   "metadata": {},
   "outputs": [],
   "source": [
    "# Your solution here"
   ]
  },
  {
   "cell_type": "markdown",
   "metadata": {},
   "source": [
    "+ Use the bootstrapping method for estimating the mean and its estandard deviation."
   ]
  },
  {
   "cell_type": "code",
   "execution_count": 26,
   "metadata": {
    "scrolled": true
   },
   "outputs": [
    {
     "name": "stdout",
     "output_type": "stream",
     "text": [
      "Requirement already satisfied: tqdm in /anaconda3/lib/python3.6/site-packages (4.28.1)\r\n"
     ]
    }
   ],
   "source": [
    "!pip install tqdm"
   ]
  },
  {
   "cell_type": "code",
   "execution_count": 27,
   "metadata": {},
   "outputs": [],
   "source": [
    "# Your solution here"
   ]
  },
  {
   "cell_type": "markdown",
   "metadata": {},
   "source": [
    "## Confidence intervals.\n",
    "\n"
   ]
  },
  {
   "cell_type": "markdown",
   "metadata": {},
   "source": [
    "A point estimate provides a *single plausible value for a parameter*. However, a point\n",
    "estimate is rarely perfect; usually there is some error in the estimate. \n",
    "\n",
    "Instead of supplying\n",
    "just a point estimate of a parameter, a next logical step would be to provide *a plausible\n",
    "range of values* for the parameter.\n",
    "\n",
    "A plausible range of values for the population parameter is called a **confidence interval**.\n",
    "\n",
    "Our point estimate is the most plausible value of the parameter, so it makes sense to build\n",
    "the confidence interval around the point estimate."
   ]
  },
  {
   "cell_type": "markdown",
   "metadata": {},
   "source": [
    "If a point estimate distribution is normal, its standard error SE represents the standard deviation associated with the estimate, and we know that roughly 95% of the time the estimate will be within 1.96 standard errors of the parameter.\n",
    "\n",
    "#### Naive interpretation of the confidence interval\n",
    "\n",
    "If the interval spreads out 1.96 standard errors from a normally distributed point estimate, intuitively we can say that we are **roughly 95% confident that we have captured the true parameter** (*this is not formally true, see later*).\n",
    "\n",
    "$$ CI = [\\mbox{point estimate} - 1.96 \\times SE, \\mbox{point estimate} + 1.96 \\times SE] $$\n",
    "\n",
    "**But what does “95% confident” mean?**"
   ]
  },
  {
   "cell_type": "markdown",
   "metadata": {},
   "source": [
    ">Suppose we took many (infinite) samples and built a confidence\n",
    "interval from each sample. Then about 95% of those intervals\n",
    "would contain the actual parameter.\n",
    " "
   ]
  },
  {
   "cell_type": "code",
   "execution_count": 28,
   "metadata": {},
   "outputs": [
    {
     "name": "stderr",
     "output_type": "stream",
     "text": [
      "/anaconda3/lib/python3.6/site-packages/matplotlib/font_manager.py:1241: UserWarning: findfont: Font family ['times'] not found. Falling back to DejaVu Sans.\n",
      "  (prop.get_family(), self.defaultFamily[fontext]))\n"
     ]
    },
    {
     "data": {
      "image/png": "[encoded data removed]",
      "text/plain": [
       "<Figure size 936x360 with 1 Axes>"
      ]
     },
     "metadata": {},
     "output_type": "display_data"
    }
   ],
   "source": [
    "df = firstbirth['prglength']\n",
    "\n",
    "n = 1000                                              # number of observations\n",
    "N_test = 100                                          # number of samples with n observations\n",
    "means = np.array([0.0] * N_test)                      # samples' mean\n",
    "s = np.array([0.0] * N_test)                          # samples' std\n",
    "ci = np.array([[0.0,0.0]] * N_test)\n",
    "tm = df.mean()                                        # \"true\" mean\n",
    "\n",
    "for i in range(N_test):                               # sample generation and CI computation\n",
    "    rows = np.random.choice(df.index.values, n)\n",
    "    sampled_df = df.loc[rows]\n",
    "    means[i]=sampled_df.mean()\n",
    "    s[i]=sampled_df.std()\n",
    "    ci[i] = means[i] + np.array([-s[i]*1.96/np.sqrt(n), s[i]*1.96/np.sqrt(n)])    \n",
    "\n",
    "out1 = ci[:,0] > tm                                   # CI that do not contain the \"true\" mean\n",
    "out2 = ci[:,1] < tm\n",
    "\n",
    "with plt.style.context('ggplot'):            # plot of the CI distribution      \n",
    "    fig, ax = plt.subplots(1, 1, figsize=(13, 5))\n",
    "    ind = np.arange(1, N_test+1)\n",
    "    ax.axhline(y=tm, xmin=0, xmax=N_test+1, color=[0, 0, 0])\n",
    "    ci = np.transpose(ci)\n",
    "    ax.plot([ind,ind], ci, color='0.75', marker='_', ms=0, linewidth=3)\n",
    "    ax.plot([ind[out1], ind[out1]], ci[:, out1], color=[1, 0, 0, 0.8], marker='_', ms=0, linewidth=3)\n",
    "    ax.plot([ind[out2], ind[out2]], ci[:, out2], color=[1, 0, 0, 0.8], marker='_', ms=0, linewidth=3)\n",
    "    ax.plot(ind, means, color=[0, .8, .2, .8], marker='.', ms=10, linestyle='')\n",
    "    ax.set_title(\"Confidence interval for the samples' mean estimate of a population\",\n",
    "             fontsize=18)\n",
    "    ax.set_xlabel('Sample (with %d observations). '  %n, fontsize=12)\n",
    "plt.show()"
   ]
  },
  {
   "cell_type": "markdown",
   "metadata": {},
   "source": [
    "### Observation\n",
    "\n",
    "Our reasoning is based on an important result from probability theory that can be directly applied to our problem: the Central Limit Theorem. "
   ]
  },
  {
   "cell_type": "markdown",
   "metadata": {},
   "source": [
    "## Central Limit Theorem \n",
    "> If a sample consists of at least 30 independent observations and the data are not\n",
    "strongly skewed, then the distribution of the sample mean is well approximated by\n",
    "a normal model.\n"
   ]
  },
  {
   "cell_type": "markdown",
   "metadata": {},
   "source": [
    "Suppose we want to consider confidence intervals where the confidence level is somewhat\n",
    "higher than 95%: perhaps we would like a confidence level of 99%.\n",
    "    \n",
    "To create a 99% confidence interval, change 1.96 in the 95% confidence interval formula\n",
    "to be 2.58 (it can be shown that 99% of the time a normal random variable will\n",
    "be within 2.58 standard deviations of the mean).\n",
    "\n",
    "In general, if the point estimate follows the normal model with standard error SE, then a\n",
    "confidence interval for the population parameter is \n",
    "\n",
    "$$ \\mbox{point estimate} \\pm z \\times SE_x $$\n",
    "\n",
    "where $z$ corresponds to the confidence level selected:\n",
    "\n",
    "| Confidence Level  | z Value  | \n",
    "|---|---|\n",
    "|  90% | 1.65 |\n",
    "|  95% | 1.96 |\n",
    "|  99% | 2.58 |\n",
    "|  99,9% | 3.291 |"
   ]
  },
  {
   "cell_type": "markdown",
   "metadata": {},
   "source": [
    "### Interpreting confidence intervals\n",
    "\n",
    "The correct interpretation of a confidence interval is:\n",
    "\n",
    "> In 95% of the cases, when I compute the confidence interval from a sample, the true mean of the population will fall within $\\pm 1.96 \\times SE_x$.\n",
    "\n",
    "**We cannot say neither that our specific sample contains the true parameter nor that the interval has  a 95% chance of containing the true parameter** (parameters are fixed and cannot be the object of a probabilistic statement).\n",
    "\n",
    "From a logical point of view, given a sample, a point estimate and its CI we can only state that \"*the CI contains the true parameter, or not\"*. We can also say that if we have access to the population, 95% of the computed CI from samples of $n$ observations will contain the true parameter. \n",
    "\n",
    "\n",
    "*Observation: This is not very interesting to say anything about the pregnant lenght of first babies! We have no access to the population and this is the only data we have.*"
   ]
  },
  {
   "cell_type": "markdown",
   "metadata": {},
   "source": [
    "## Hypothesis testing\n",
    "\n",
    "Our question is: **Were the observed effects related to the birth of first babies real or not?** \n",
    "\n",
    "Technically,  the question is usually translated to: **Were the observed effects statistically significant**? \n",
    "\n",
    "The process of determining the **statistical significance** of an effect is called **hypothesis testing**.\n",
    "\n",
    "This process starts by simplifying the options into two competing hypotheses:\n",
    "\n",
    "+ $H_0$: The mean pregnant lenght for first babies and for other babies is the same (there is only one population, one true mean, and ``first babies`` and ``other babies`` are just different samples from the same population).\n",
    "+ $H_A$: The mean pregnant lenght for ``first babies`` and for ``other babies`` is different (``first babies`` and ``other babies`` are two samples from two different populations).\n",
    "\n",
    "We call $H_0$ the **null hypothesis** and it represents a *skeptical* point of view: the effect we have observed is due to chance (due to the specific sample bias). \n",
    "\n",
    "$H_A$ is the **alternative hypothesis** and it represents the other point of view: the effect is real."
   ]
  },
  {
   "cell_type": "markdown",
   "metadata": {},
   "source": [
    "### Hypothesis Testing Rule\n",
    "The general rule of frequentist hypothesis testing is: We will not *accept* $H_A$ unless the observed effect is **implausible** under $H_0$.\n"
   ]
  },
  {
   "cell_type": "markdown",
   "metadata": {},
   "source": [
    "### Testing hypotheses using confidence intervals.\n",
    "\n",
    "We can use the concept represented by *confidence intervals* to measure the **plausibility** of a hypothesis.\n",
    "\n",
    "We can start the evaluation of the hypotheses setup by comparing first babies and other babies pregnant lenght using a *point estimate from the first babies sample*: $ \\bar{x}_{fb} = 38.6$. \n",
    "\n",
    "This estimate suggests the average lenght is actually longer. However, to evaluate\n",
    "whether this provides strong evidence that there is a difference, we must consider the\n",
    "uncertainty associated with $ \\bar{x}_{fb}$ (The difference between\n",
    "$\\bar{x}_{fb}$ and $ \\bar{x}_{ob}$ could be due to sampling variation)."
   ]
  },
  {
   "cell_type": "markdown",
   "metadata": {},
   "source": [
    "Based on our sample, the 95% confidence interval for the mean pregnant lenght for first babies can be calculated as:"
   ]
  },
  {
   "cell_type": "code",
   "execution_count": 25,
   "metadata": {},
   "outputs": [
    {
     "name": "stdout",
     "output_type": "stream",
     "text": [
      "Mean: 38.60095173351461 | CI of the mean: [38.51857791730805, 38.683325549721175]\n"
     ]
    }
   ],
   "source": [
    "df = firstbirth['prglength']\n",
    "n = len(df)\n",
    "mean=df.mean()\n",
    "s=df.std()\n",
    "ci = [mean - s*1.96/np.sqrt(n),  mean + s*1.96/np.sqrt(n)] \n",
    "print('Mean:', mean, '| CI of the mean:',ci)"
   ]
  },
  {
   "cell_type": "markdown",
   "metadata": {},
   "source": [
    "Because the other babies' mean, 38.52, falls in the range of plausible values, we cannot say the null hypothesis is **implausible**. \n",
    "\n",
    "That is, **we failed to reject the null hypothesis, $H_0$**."
   ]
  },
  {
   "cell_type": "markdown",
   "metadata": {},
   "source": [
    "#### Exercise\n",
    "\n",
    "Implement the evaluation of the hypothesis setup by comparing first babies and other babies pregnant lenght using a 99% confidence interval. Can we reject the null hypothesis, $H_0$? How do you interpret this result?"
   ]
  },
  {
   "cell_type": "code",
   "execution_count": 26,
   "metadata": {},
   "outputs": [],
   "source": [
    "# Your solution here"
   ]
  },
  {
   "cell_type": "markdown",
   "metadata": {},
   "source": [
    "<div class = \"alert alert-success\" style = \"border-radius:10px;border-width:3px;border-color:darkgreen;font-family:Verdana,sans-serif;font-size:16px;\">\n",
    "**Hypothesis tests are not flawless**. We can make a wrong decision in statistical hypothesis tests. \n",
    "</div>  \n",
    "\n",
    "### Interpreting CI tests.\n",
    "\n",
    "Hypothesis testing is built around rejecting or failing to reject the null hypothesis.\n",
    "That is, we do not reject $H_0$ unless we have strong evidence. But what precisely does strong\n",
    "evidence mean? As a general rule of thumb, for those cases where the null hypothesis is\n",
    "actually true, we do not want to incorrectly reject $H_0$ more than 5% of the time. This\n",
    "corresponds to a **significance level** of $\\alpha =0.05$.\n",
    "\n",
    "> If we use a 95% confidence interval to test a hypothesis where the null hypothesis is\n",
    "true, we will make an error whenever the point estimate is at least 1.96 standard errors\n",
    "away from the population parameter. This happens about 5% of the time (2.5% in each\n",
    "tail)."
   ]
  },
  {
   "cell_type": "markdown",
   "metadata": {},
   "source": [
    "## Exercise\n",
    "\n",
    "Apply the CI method to the mean rate of traffic accidents in Barcelona during 2010 and 2013 using a point estimate from the 2013 sample:"
   ]
  },
  {
   "cell_type": "code",
   "execution_count": 27,
   "metadata": {},
   "outputs": [],
   "source": [
    "# Your solution here"
   ]
  },
  {
   "cell_type": "markdown",
   "metadata": {},
   "source": [
    "The result should suggest that during 2013 the mean rate of\n",
    "traffic accidents in Barcelona **was higher** than 2010. But is this effect statistically significant?"
   ]
  },
  {
   "cell_type": "code",
   "execution_count": 28,
   "metadata": {},
   "outputs": [],
   "source": [
    "# Your solution here"
   ]
  },
  {
   "cell_type": "markdown",
   "metadata": {},
   "source": [
    "Because 2013 accident rate estimate does not fall in the range of plausible values of 2010, we say the alternative hypothesis cannot be discarted. That is, it can not be discarted that during 2013 the mean rate of traffic accidents in Barcelona was higher than during 2010."
   ]
  },
  {
   "cell_type": "markdown",
   "metadata": {},
   "source": [
    "### Testing hypotheses using P-values.\n",
    "\n",
    "The modern notion of **statistical significance** was developed by R.A.Fisher in the 1920's when looking for a test to decide whether variation in crop yields were due to some specific intervention or merely randon factors beyond experimental control.\n",
    "\n",
    "Fisher first assumed that fertilizer caused no difference (**null hypothesis**) and then calculated $P$ the probability that an observed yield in a fertilized field would occur if fertilizer had no real effect. This probability is called **p-value**."
   ]
  },
  {
   "cell_type": "markdown",
   "metadata": {},
   "source": [
    "<div class = \"alert alert-success\" style = \"border-radius:10px;border-width:3px;border-color:darkgreen;font-family:Verdana,sans-serif;font-size:16px;\"> <b> P-value </b> <br>\n",
    "The p-value is the probability of observing data at least as favorable to the alternative\n",
    "hypothesis as our current data set, if the null hypothesis is true. We\n",
    "typically use a summary statistic of the data, f.e. the sample mean, to\n",
    "help compute the p-value and evaluate the hypotheses.\n",
    "</div>   \n",
    "\n",
    "Usually, if $P$ is less than 0.05 (the chance of a fluke is less than 5%) the result is declared **statistically significant**. \n",
    "\n",
    "It must be pointed out that this choice is rather arbitrary and should not be taken as a scientific truth."
   ]
  },
  {
   "cell_type": "markdown",
   "metadata": {},
   "source": [
    "\n",
    "### www.nature.com, February 13th, 2014 \n",
    "\n",
    ">*For a brief moment in 2010, Matt Motyl was on the brink of scientific glory: \n",
    "he had discovered that extremists quite literally see the world in black \n",
    "and white.*\n",
    "\n",
    ">*The results were “plain as day”, recalls Motyl, a psychology PhD student at \n",
    "the University of Virginia in Charlottesville. Data from a study of nearly 2,000 \n",
    "people seemed to show that political moderates saw shades of grey more accurately \n",
    "than did either left-wing or right-wing extremists. “The hypothesis was sexy,” \n",
    "he says, “and the data provided clear support.” The $P$ value, a common index \n",
    "for the strength of evidence, was 0.01 — usually interpreted as 'very significant'. \n",
    "Publication in a high-impact journal seemed within Motyl's grasp. But...*\n",
    "</div>"
   ]
  },
  {
   "cell_type": "markdown",
   "metadata": {},
   "source": [
    "The goal of classical hypothesis testing is to answer the question, “*Given a sample and an apparent effect, what is the probability of seeing such an effect by chance?*”\n",
    "\n",
    "Here’s how we answer that question:\n",
    "\n",
    "+ The first step is to quantify the size of the apparent effect by choosing a test statistic. In the NSFG example, the apparent effect is a difference in pregnancy length between first babies and others, so a natural choice for the test statistic is the **difference in means between the two groups**.\n",
    "\n",
    "+ The second step is to define a **null hypothesis**, which is a model of the system based on the assumption that the apparent effect is not real. In the NSFG example the null hypothesis is that there is no difference between first babies and others; that is, that pregnancy lengths for both groups have the same distribution.\n",
    "\n",
    "+ The third step is to compute a **p-value**, which is the probability of seeing the apparent effect if the null hypothesis is true. In the NSFG example, we would compute the absolute difference in means, then compute the probability of seeing a difference as big, or bigger, under the null hypothesis.\n",
    "\n",
    "+ The last step is to **interpret the result**. If the p-value is low, the effect is said to be **statistically significant**, which means that it is unlikely to have occurred by chance. In that case we infer that the effect is more likely to appear in the larger population."
   ]
  },
  {
   "cell_type": "markdown",
   "metadata": {},
   "source": [
    "> A $P$ value is the probability of an observed (or more extreme) result arising only from chance. \n",
    "\n",
    "If $P$ is less than 0.05 there are two possible conclusions: There is a real effect or the result is an improvable fluke. **Fisher's method offers no way to know which is which**. \n",
    "\n",
    "We must not confuse the odds of getting a result (if a hypothesis is true) with the odds of favoring the hypothesis if you observe that result. If $P$ is less than 0.05 we cannot say that this means that it is 95% certain that the observed effect is real and could not have arisen by chance.** $P(E|H)$ and $P(H|E)$ are not the same!** \n",
    "\n",
    "Another common error equates **statistical significance** to **practical importance/relevance**. When working with large datasets, we can detect statistical significance for small effects that are meaningless in practical terms. "
   ]
  },
  {
   "cell_type": "markdown",
   "metadata": {},
   "source": [
    "### Exercise \n",
    "\n",
    "Suppose we toss a coin 250 times and see 140 heads and 110 tails. Based on this result, we might suspect that the coin is biased; that is, more likely to land heads. Compute the p-value of this hypothesis by simulating samples of 250 tossings."
   ]
  },
  {
   "cell_type": "code",
   "execution_count": 29,
   "metadata": {},
   "outputs": [],
   "source": [
    "# Your solution here"
   ]
  },
  {
   "cell_type": "markdown",
   "metadata": {},
   "source": [
    "### Testing a difference in means (by shuffling).\n",
    "\n",
    "We saw that the mean pregnancy lenght for first babies is slighly longer. Let's see if it is significant.\n",
    "\n",
    "+ The null hypothesis is that the mean of the two groups is the same and the observed difference is due to chance. \n",
    "\n",
    "+ To compute the p-values we can pool the distribution of all live births, generate random samples that are the same size as the observed samples, and compute the difference in means under the null hypothesis.\n",
    "\n",
    "+ If we generate a large number of samples, we can count how often the difference in means (due to chance) is as big or bigger than the difference we actually observed. This fraction is the p-value."
   ]
  },
  {
   "cell_type": "markdown",
   "metadata": {},
   "source": [
    "For pregnancy length, we have the following data: "
   ]
  },
  {
   "cell_type": "code",
   "execution_count": 30,
   "metadata": {},
   "outputs": [
    {
     "name": "stdout",
     "output_type": "stream",
     "text": [
      "m: 4413 n: 4735\n",
      "mean difference in weeks:  0.07803726677754952\n"
     ]
    }
   ],
   "source": [
    "m= len(firstbirth['prglength'])\n",
    "n= len(othersbirth['prglength'])\n",
    "\n",
    "p = (firstbirth['prglength'].mean() - othersbirth['prglength'].mean())\n",
    "print('m:',m, 'n:', n)\n",
    "print('mean difference in weeks: ', p)"
   ]
  },
  {
   "cell_type": "markdown",
   "metadata": {},
   "source": [
    "To approximate the p-value, we can pool the distributions, generate samples with size $m$ and $n$ and compute the difference in the mean."
   ]
  },
  {
   "cell_type": "code",
   "execution_count": 31,
   "metadata": {},
   "outputs": [
    {
     "data": {
      "image/png": "[encoded data removed]",
      "text/plain": [
       "<Figure size 864x288 with 1 Axes>"
      ]
     },
     "metadata": {},
     "output_type": "display_data"
    }
   ],
   "source": [
    "x = firstbirth['prglength']\n",
    "y = othersbirth['prglength']\n",
    "pool = np.concatenate([x,y])\n",
    "np.random.shuffle(pool)\n",
    "\n",
    "with plt.style.context('ggplot'):    # plotting the pooled distribution\n",
    "    fig, ax = plt.subplots(1, 1, figsize=(12, 4))\n",
    "    plt.hist(pool, bins=40)"
   ]
  },
  {
   "cell_type": "code",
   "execution_count": 32,
   "metadata": {},
   "outputs": [
    {
     "data": {
      "image/png": "[encoded data removed]",
      "text/plain": [
       "<Figure size 864x288 with 1 Axes>"
      ]
     },
     "metadata": {},
     "output_type": "display_data"
    }
   ],
   "source": [
    "import random\n",
    "N = 1000                                            # number of samples\n",
    "diff = list(range(N))\n",
    "for i in range(N):\n",
    "    p1 = [random.choice(pool) for _ in range(m)]\n",
    "    p2 = [random.choice(pool) for _ in range(n)]\n",
    "    diff[i] = abs(np.mean(p1)-np.mean(p2))          # two sided test\n",
    "\n",
    "with plt.style.context('ggplot'):          # plotting difference values \n",
    "    fig, ax = plt.subplots(1, 1, figsize=(12, 4))\n",
    "    plt.hist(diff, bins=50)"
   ]
  },
  {
   "cell_type": "code",
   "execution_count": 33,
   "metadata": {},
   "outputs": [
    {
     "data": {
      "text/plain": [
       "179"
      ]
     },
     "execution_count": 33,
     "metadata": {},
     "output_type": "execute_result"
    }
   ],
   "source": [
    "diff2 = np.array(diff)\n",
    "w1 = np.where(diff2 > p)[0]      # counting how many differences are larger than the observed one\n",
    "len(w1)"
   ]
  },
  {
   "cell_type": "markdown",
   "metadata": {},
   "source": [
    "If there are $k$ sample pairs where the difference in mean is as big as or bigger than 0.07, the p-value is approximately $k/N$. "
   ]
  },
  {
   "cell_type": "code",
   "execution_count": 34,
   "metadata": {},
   "outputs": [
    {
     "name": "stdout",
     "output_type": "stream",
     "text": [
      "p-value (Simulation)= 0.179 ( 17.9 %) Difference = 0.07803726677754952\n",
      "The effect is not likely\n",
      "P-value original data (Python function): 0.16755412639415004\n"
     ]
    }
   ],
   "source": [
    "print('p-value (Simulation)=', len(w1)/float(N), '(', len(w1)/float(N)*100 ,'%)', 'Difference =', p)\n",
    "if len(w1)/float(N)<0.05:\n",
    "    print('The effect is likely')\n",
    "else:\n",
    "    print('The effect is not likely')\n",
    "\n",
    "    \n",
    "# using python functions\n",
    "\n",
    "from scipy.stats import ttest_ind\n",
    "print\n",
    "print('P-value original data (Python function):', \\\n",
    "      ttest_ind(firstbirth['prglength'], othersbirth['prglength'])[1])  #two sided test"
   ]
  },
  {
   "cell_type": "markdown",
   "metadata": {},
   "source": [
    "The most common approach to hypothesis testing is to choose a threshold value for deciding is the effect is likely or not. A common choice is 5% (p-value $< 0.05$). \n",
    "\n",
    "So, the effect is not likely!"
   ]
  },
  {
   "cell_type": "markdown",
   "metadata": {},
   "source": [
    "### Exercise\n",
    "\n",
    "Compute the p-value for the dataset free of outlier values. What is your opinion about this result? Is this effect **relevant**?"
   ]
  },
  {
   "cell_type": "code",
   "execution_count": 35,
   "metadata": {},
   "outputs": [],
   "source": [
    "# Your solution here"
   ]
  },
  {
   "cell_type": "markdown",
   "metadata": {},
   "source": [
    "### 5%\n",
    "\n",
    "But the choice of 5% is arbitrary, and the p-value depends on the choice of the test statistics and the model of the null hypothesis. So p-values should not be considered precise measurements.\n",
    "\n",
    "p-values can be interpreted according to their order of magnitude: if the p-value is less than 1%, the effect is unlikely to be due to chance; if it is greater than 10%, the effect can plausibly be explained by chance. P-values between 1% and 10% should be considered borderline."
   ]
  },
  {
   "cell_type": "markdown",
   "metadata": {},
   "source": [
    "#### One-sided and two-sided tests.\n",
    "\n",
    "We have defined the effect as *a difference in mean (positive or negative) as big or bigger than $\\delta$*, **ignoring the sign**. A test like this is called **two-sided**. \n",
    "\n",
    "If the relevant question is whether **pregnancy lengths are different for first babies**, then it makes sense to test the absolute difference in means, but if the hypothesis is that **first babies are likely to be late** we would not take the absolute value of the difference. This kind of test is called one-sided because it only counts one side of the distribution of differences. \n",
    "\n",
    "To convert a two-sided test to one-sided text you can multiply the p-value by two and that's it! "
   ]
  },
  {
   "cell_type": "markdown",
   "metadata": {},
   "source": [
    "### Confidence intervals of the difference in two means.\n",
    "\n",
    "The formula for the standard error of the difference in two means is similar to the formula\n",
    "for other standard errors. Recall that the standard error of a single mean can be\n",
    "approximated by: \n",
    "\n",
    "$$ SE_{\\bar{x}_1} = \\frac{\\sigma_1}{\\sqrt{n_1}} $$\n",
    "\n",
    "The standard error of the difference of two sample means can be constructed from the\n",
    "standard errors of the separate sample means:\n",
    "\n",
    "$$ SE_{\\bar{x}_1 - \\bar{x}_2 } = \\sqrt{\\frac{\\sigma_1^2}{n_1} + \\frac{\\sigma_2^2}{n_2}} $$\n",
    "\n",
    "This would allow to define a test with the 95% confidence interval."
   ]
  },
  {
   "cell_type": "markdown",
   "metadata": {},
   "source": [
    "### Exercise\n",
    "\n",
    "Using the birth dataset:\n",
    "\n",
    "+ Define $H_0$ and $H_1$.\n",
    "+ Compute the CI of the difference of means for original and clean data.\n",
    "+ What is your conclusion?"
   ]
  },
  {
   "cell_type": "code",
   "execution_count": 36,
   "metadata": {},
   "outputs": [],
   "source": [
    "# Your solution here"
   ]
  },
  {
   "cell_type": "markdown",
   "metadata": {},
   "source": [
    "### Testing proportions\n",
    "\n",
    "When we computed relative risk, we saw that first babies are more likely to\n",
    "be early, less likely to be on time, and more likely to be late.\n",
    "\n",
    "So maybe the distributions have the same mean and different variance. We\n",
    "could test the significance of the difference in variance, but variances are less\n",
    "robust than means, and hypothesis tests for variance often behave badly.\n",
    "\n",
    "An alternative is to test a hypothesis that more directly reflects the effect as\n",
    "it appears; that is, **the hypothesis that first babies are more likely to be early,\n",
    "less likely to be on time, and more likely to be late**."
   ]
  },
  {
   "cell_type": "markdown",
   "metadata": {},
   "source": [
    "We proceed in five easy steps:\n",
    "\n",
    "+ We define a set of categories, called cells, that each baby might fall\n",
    "into. In this example, there are six cells because there are two groups\n",
    "(first babies and others) and three bins (early, on time or late).\n",
    "(We can use the following definitions: a baby is early if it is born\n",
    "during Week 37 or earlier, on time if it is born during Week 38, 39 or\n",
    "40, and late if it is born duringWeek 41 or later.)\n",
    "\n",
    "+ We compute the number of babies we expect in each cell. Under the\n",
    "null hypothesis, we assume that the distributions are the same for the\n",
    "two groups, so we can compute the pooled probabilities: $P(early)$,\n",
    "$P(ontime)$ and $P(late)$. For first babies, we have $n$ = 4413 samples, \n",
    "so under the null hypothesis\n",
    "we expect $n \\times P(early)$ first babies to be early, $n \\times  P(ontime)$ to be\n",
    "on time, etc. Likewise, we have $m$ = 4735 other babies, so we expect\n",
    "$m \\times  P(early)$ other babies to be early, etc.\n",
    "\n",
    "+ For each cell we compute the deviation; that is, the difference between the observed value, \n",
    "$O_i$, and the expected value, $E_i$.\n",
    "\n",
    "+ We compute some measure of the **total deviation**; this quantity is called the test statistic. The most common choice is the **chi-square statistic**:\n",
    "\n",
    "$$ \\chi^2 = \\sum_i \\frac{(O_i - E_i)^2}{E_i} $$\n",
    "\n",
    "+ We can use simulation to compute the p-value, which is\n",
    "the probability of seeing a chi-square statistic as high as the observed\n",
    "value under the null hypothesis.\n",
    "\n",
    "When the chi-square statistic is used, this process is called a **chi-square test**.\n",
    "One feature of the chi-square test is that the distribution of the test statistic\n",
    "can be computed analytically."
   ]
  },
  {
   "cell_type": "code",
   "execution_count": 37,
   "metadata": {},
   "outputs": [
    {
     "name": "stdout",
     "output_type": "stream",
     "text": [
      "Chi-squared test statistic: 2.5 P-value of the test 0.7764950711233227\n"
     ]
    }
   ],
   "source": [
    "from scipy.stats import chisquare\n",
    "a = chisquare([16, 18, 16, 14, 12, 12], [16, 16, 16, 16, 16, 16])\n",
    "print('Chi-squared test statistic:', a[0], 'P-value of the test', a[1])"
   ]
  },
  {
   "cell_type": "markdown",
   "metadata": {},
   "source": [
    "### Exercise\n",
    "\n",
    "Using the data from the NSFG, compute the Chi-squared test statistic and its p-value. "
   ]
  },
  {
   "cell_type": "code",
   "execution_count": 38,
   "metadata": {},
   "outputs": [],
   "source": [
    "# Your solution here"
   ]
  },
  {
   "cell_type": "markdown",
   "metadata": {},
   "source": [
    "### Frequentist general inference: Conclusions.\n",
    "\n",
    "+ Point estimates are useful to build hypotheses.\n",
    "+ We can measure the variability of PE with SE or 95% confidence intervals.\n",
    "+ We produce a proposition by computing $P(E|H_0)$ (by setting $\\alpha$ in advance):\n",
    "    + Accept $H_1$ if $P(E|H_0) < \\alpha$.\n",
    "    + Accept $H_0$ if $P(E|H_0) \\geq \\alpha$."
   ]
  },
  {
   "cell_type": "markdown",
   "metadata": {},
   "source": [
    "### But, is the effect `E` real?\n",
    "\n",
    "We have yet no answer for this question! We have defined a null hypothesis $H_0$ (the effect is not real), which is $P(E | H_0)$, where $E$ is an effect as big as or bigger than the aparent effect and a p-value. \n",
    "\n",
    "We have stated that under the frequentist point of view, we cannot accept $H_A$ unless $P(E | H_0)$ is less than an arbitrary value. But, what happens if $P(H_A | E) > P(H_0 | E)$?\n",
    "\n",
    "One possible solution to these problems is to use **Bayesian reasoning**, an alternative to the frequentist apporach."
   ]
  },
  {
   "cell_type": "markdown",
   "metadata": {},
   "source": [
    "## Big Data accelerates medical research? Or not?  KDNuggets, 2014. \n",
    "\n",
    "> A recent study looked at over 4 dozen health claims that researchers arrived at by examining existing data for possible associations - not by conducting controlled experiments.  These 4 dozen claims all had one thing in common - they were tested later by controlled experiments.  Astonishingly, not one of the claims held up in the controlled experiment. <br>\n",
    "\n",
    "> Various reasons have been posited for the parlous state of scientific and medical research, including **fraud and outright error**, but a key issue is what statisticians call the \"**multiple comparisons problem**.\"  Even in completely randomly-generated data, interesting patterns appear.  If the data are big enough and the search exhaustive enough, the patterns can be very compelling. \n",
    "The moral?  Rapid growth in the digitization and availability of patient data and health data in general holds great potential for medical research and personalized medicine.  However, appropriate statistical methodology and sound study design are needed to unlock this potential, and guard against error. \n"
   ]
  },
  {
   "cell_type": "markdown",
   "metadata": {},
   "source": [
    "### The skeptic view\n",
    "\n",
    "No matter how much data you have, you will still depend on intuition to decide how to interpret, explain and use the data.\n",
    "\n",
    "Data can’t say anything. Data scientists are interpreters, offering one interpretation of what the useful narrative story derived from the data is (if there is one at all).\n",
    "\n",
    "Cognitive Bias (f.e. confirmation bias, narrative bias) pollutes our view of data. \n",
    "\n"
   ]
  },
  {
   "cell_type": "code",
   "execution_count": null,
   "metadata": {
    "inputHidden": false,
    "outputHidden": false
   },
   "outputs": [],
   "source": []
  }
 ],
 "metadata": {
  "anaconda-cloud": {},
  "kernel_info": {
   "name": "python3"
  },
  "kernelspec": {
   "display_name": "Python 3",
   "language": "python",
   "name": "python3"
  },
  "language_info": {
   "codemirror_mode": {
    "name": "ipython",
    "version": 3
   },
   "file_extension": ".py",
   "mimetype": "text/x-python",
   "name": "python",
   "nbconvert_exporter": "python",
   "pygments_lexer": "ipython3",
   "version": "3.6.6"
  },
  "nteract": {
   "version": "0.12.3"
  }
 },
 "nbformat": 4,
 "nbformat_minor": 1
}
