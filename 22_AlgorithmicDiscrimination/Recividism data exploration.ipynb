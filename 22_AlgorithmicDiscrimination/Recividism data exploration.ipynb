{
 "cells": [
  {
   "cell_type": "markdown",
   "metadata": {},
   "source": [
    "# Recidivism data exploration (SAVRY)\n",
    "\n",
    "This Python Notebook was created by [ChaTo](http://chato.cl/research/) on January 2019 for educational purposes. It corresponds to a set of 850 juvenile offenders in Catalonia who were evaluated in 2010 using **SAVRY**, a structured risk assessment tool. The data on recidivism indicates if the same people committed a new offence in 2013-2015.\n",
    "\n",
    "See the [README.md](README.md) file for details on this data."
   ]
  },
  {
   "cell_type": "markdown",
   "metadata": {},
   "source": [
    "# Context: evaluating the risk of recidivism\n",
    "\n",
    "Various risks need to be evaluated in the criminal justice system. These risks include:\n",
    "\n",
    "* The risk of breaking the conditions of bail, i.e., not returning for trial\n",
    "* The risk of committing a new crime (*recidivism*)\n",
    "* The risk of committing a new violent crime (*violent recidivism*)\n",
    "* The risk of committing an act of violence against another immate or penitentiary personnel in jail (*intrapenitentiary violence*)\n",
    "* The risk of committing an *administrative violation* such as breaking the conditions of a permit\n",
    "\n",
    "**Structured risk assessment** corresponds to a family of methodologies for evaluating these risks using a systematic process, typically in which a number of different items are evaluated, and a final decision is taken based on the results of those items. The final decision may be taken by a professional (a *clinical* assessment) or automatically based on the scores in each item (an *actuarial* assessment). Most often, a professional makes a decision based on his/her own evaluation of a defendant and the result of a series of items.\n",
    "\n",
    "On May 2016, ProPublica, an investigative journalism organizations, published a piece called \"[Machine Bias](https://www.propublica.org/article/machine-bias-risk-assessments-in-criminal-sentencing)\", in which a predictive tool for predicting recidivism used in the US, **COMPAS**, was found to be biased against African-Americans. This article prompted several responses and attracted researchers to look at the issues of structured risk assessment in criminal justice.\n",
    "\n",
    "**This notebook** presents an exploration of a sub-set of data from **[SAVRY](https://www.parinc.com/Products/Pkey/390)** (Structured Assessment of Violence Risk in Youth) applied to 850 young offenders in Catalonia. SAVRY contains 24 risk items, in which each item can have one of three values (low=0, moderate=1, high=2), for a total score between 0 and 48 points, although in this dataset the highest score attained by an indivdual is 40 points (`sum_all_risk_items`). There is also a score by a professional (`professional_risk_evaluation`) that can be low, moderate, or high.\n",
    "\n",
    "In this dataset, there is information about whether people committed a new crime 3-5 years after the evaluation. What we ask is to what extent this recidivism can be predicted by using the total SAVRY score as an actuarial assessment, or using the professional risk evaluation. We also ask if there is a better way of combining the SAVRY items than simply adding them, by creating a logistic regression model of risk. Finally, we consider the *fairness* of the resulting instrument."
   ]
  },
  {
   "cell_type": "markdown",
   "metadata": {},
   "source": [
    "# Libraries used in this notebook"
   ]
  },
  {
   "cell_type": "code",
   "execution_count": 1,
   "metadata": {},
   "outputs": [],
   "source": [
    "import numpy as np\n",
    "import pandas as pd\n",
    "import matplotlib.pyplot as plt\n",
    "\n",
    "from sklearn.feature_selection import SelectKBest\n",
    "from sklearn.feature_selection import chi2\n",
    "\n",
    "from sklearn.linear_model import LogisticRegression\n",
    "from sklearn.model_selection import train_test_split\n",
    "from sklearn.metrics import roc_auc_score, roc_curve, auc"
   ]
  },
  {
   "cell_type": "markdown",
   "metadata": {},
   "source": [
    "# Load dataset"
   ]
  },
  {
   "cell_type": "code",
   "execution_count": 2,
   "metadata": {},
   "outputs": [
    {
     "data": {
      "text/html": [
       "<div>\n",
       "<style scoped>\n",
       "    .dataframe tbody tr th:only-of-type {\n",
       "        vertical-align: middle;\n",
       "    }\n",
       "\n",
       "    .dataframe tbody tr th {\n",
       "        vertical-align: top;\n",
       "    }\n",
       "\n",
       "    .dataframe thead th {\n",
       "        text-align: right;\n",
       "    }\n",
       "</style>\n",
       "<table border=\"1\" class=\"dataframe\">\n",
       "  <thead>\n",
       "    <tr style=\"text-align: right;\">\n",
       "      <th></th>\n",
       "      <th>gender</th>\n",
       "      <th>nationality</th>\n",
       "      <th>main_crime_age</th>\n",
       "      <th>criminal_records</th>\n",
       "      <th>main_crime_category</th>\n",
       "      <th>main_crime_is_violent</th>\n",
       "      <th>risk01_previous_violence</th>\n",
       "      <th>risk02_history_nonviolent_offences</th>\n",
       "      <th>risk03_early_violence_before_14</th>\n",
       "      <th>risk04_past_intervention_fail</th>\n",
       "      <th>...</th>\n",
       "      <th>sum_social_risk_items</th>\n",
       "      <th>sum_individual_risk_items</th>\n",
       "      <th>sum_all_risk_items</th>\n",
       "      <th>sum_all_protective_items</th>\n",
       "      <th>professional_risk_evaluation</th>\n",
       "      <th>recidivism</th>\n",
       "      <th>recidivism_number_offences</th>\n",
       "      <th>recidividm_category_first_offence</th>\n",
       "      <th>recidivism_violence_first_offence</th>\n",
       "      <th>recidivism_severity</th>\n",
       "    </tr>\n",
       "  </thead>\n",
       "  <tbody>\n",
       "    <tr>\n",
       "      <th>0</th>\n",
       "      <td>Male</td>\n",
       "      <td>Spanish</td>\n",
       "      <td>17</td>\n",
       "      <td>1 or 2 criminal records</td>\n",
       "      <td>Nonviolent against property</td>\n",
       "      <td>No violent</td>\n",
       "      <td>Moderate</td>\n",
       "      <td>Moderate</td>\n",
       "      <td>Low</td>\n",
       "      <td>Low</td>\n",
       "      <td>...</td>\n",
       "      <td>3</td>\n",
       "      <td>5</td>\n",
       "      <td>12</td>\n",
       "      <td>1</td>\n",
       "      <td>Low</td>\n",
       "      <td>No</td>\n",
       "      <td>0</td>\n",
       "      <td>Not applicable</td>\n",
       "      <td>Not applicable</td>\n",
       "      <td>0</td>\n",
       "    </tr>\n",
       "    <tr>\n",
       "      <th>1</th>\n",
       "      <td>Male</td>\n",
       "      <td>Spanish</td>\n",
       "      <td>17</td>\n",
       "      <td>3 to 5 criminal records</td>\n",
       "      <td>Against persons</td>\n",
       "      <td>Violent</td>\n",
       "      <td>Moderate</td>\n",
       "      <td>Moderate</td>\n",
       "      <td>Low</td>\n",
       "      <td>Moderate</td>\n",
       "      <td>...</td>\n",
       "      <td>5</td>\n",
       "      <td>6</td>\n",
       "      <td>19</td>\n",
       "      <td>4</td>\n",
       "      <td>Moderate</td>\n",
       "      <td>Yes</td>\n",
       "      <td>1</td>\n",
       "      <td>Others</td>\n",
       "      <td>No violent</td>\n",
       "      <td>1</td>\n",
       "    </tr>\n",
       "    <tr>\n",
       "      <th>2</th>\n",
       "      <td>Male</td>\n",
       "      <td>Foreigner</td>\n",
       "      <td>16</td>\n",
       "      <td>1 or 2 criminal records</td>\n",
       "      <td>Nonviolent against property</td>\n",
       "      <td>No violent</td>\n",
       "      <td>Low</td>\n",
       "      <td>Low</td>\n",
       "      <td>Low</td>\n",
       "      <td>Low</td>\n",
       "      <td>...</td>\n",
       "      <td>4</td>\n",
       "      <td>1</td>\n",
       "      <td>9</td>\n",
       "      <td>3</td>\n",
       "      <td>Low</td>\n",
       "      <td>No</td>\n",
       "      <td>0</td>\n",
       "      <td>Not applicable</td>\n",
       "      <td>Not applicable</td>\n",
       "      <td>0</td>\n",
       "    </tr>\n",
       "    <tr>\n",
       "      <th>3</th>\n",
       "      <td>Male</td>\n",
       "      <td>Spanish</td>\n",
       "      <td>17</td>\n",
       "      <td>0 criminal records</td>\n",
       "      <td>Against persons</td>\n",
       "      <td>Violent</td>\n",
       "      <td>Low</td>\n",
       "      <td>Low</td>\n",
       "      <td>Low</td>\n",
       "      <td>Low</td>\n",
       "      <td>...</td>\n",
       "      <td>1</td>\n",
       "      <td>5</td>\n",
       "      <td>9</td>\n",
       "      <td>2</td>\n",
       "      <td>High</td>\n",
       "      <td>No</td>\n",
       "      <td>0</td>\n",
       "      <td>Not applicable</td>\n",
       "      <td>Not applicable</td>\n",
       "      <td>0</td>\n",
       "    </tr>\n",
       "    <tr>\n",
       "      <th>4</th>\n",
       "      <td>Male</td>\n",
       "      <td>Spanish</td>\n",
       "      <td>16</td>\n",
       "      <td>3 to 5 criminal records</td>\n",
       "      <td>Nonviolent against property</td>\n",
       "      <td>No violent</td>\n",
       "      <td>Moderate</td>\n",
       "      <td>Moderate</td>\n",
       "      <td>Low</td>\n",
       "      <td>Low</td>\n",
       "      <td>...</td>\n",
       "      <td>2</td>\n",
       "      <td>2</td>\n",
       "      <td>13</td>\n",
       "      <td>0</td>\n",
       "      <td>Moderate</td>\n",
       "      <td>No</td>\n",
       "      <td>0</td>\n",
       "      <td>Not applicable</td>\n",
       "      <td>Not applicable</td>\n",
       "      <td>0</td>\n",
       "    </tr>\n",
       "  </tbody>\n",
       "</table>\n",
       "<p>5 rows × 52 columns</p>\n",
       "</div>"
      ],
      "text/plain": [
       "  gender nationality  main_crime_age         criminal_records  \\\n",
       "0   Male     Spanish              17  1 or 2 criminal records   \n",
       "1   Male     Spanish              17  3 to 5 criminal records   \n",
       "2   Male   Foreigner              16  1 or 2 criminal records   \n",
       "3   Male     Spanish              17       0 criminal records   \n",
       "4   Male     Spanish              16  3 to 5 criminal records   \n",
       "\n",
       "           main_crime_category main_crime_is_violent risk01_previous_violence  \\\n",
       "0  Nonviolent against property            No violent                 Moderate   \n",
       "1              Against persons               Violent                 Moderate   \n",
       "2  Nonviolent against property            No violent                      Low   \n",
       "3              Against persons               Violent                      Low   \n",
       "4  Nonviolent against property            No violent                 Moderate   \n",
       "\n",
       "  risk02_history_nonviolent_offences risk03_early_violence_before_14  \\\n",
       "0                           Moderate                             Low   \n",
       "1                           Moderate                             Low   \n",
       "2                                Low                             Low   \n",
       "3                                Low                             Low   \n",
       "4                           Moderate                             Low   \n",
       "\n",
       "  risk04_past_intervention_fail         ...         sum_social_risk_items  \\\n",
       "0                           Low         ...                             3   \n",
       "1                      Moderate         ...                             5   \n",
       "2                           Low         ...                             4   \n",
       "3                           Low         ...                             1   \n",
       "4                           Low         ...                             2   \n",
       "\n",
       "  sum_individual_risk_items sum_all_risk_items sum_all_protective_items  \\\n",
       "0                         5                 12                        1   \n",
       "1                         6                 19                        4   \n",
       "2                         1                  9                        3   \n",
       "3                         5                  9                        2   \n",
       "4                         2                 13                        0   \n",
       "\n",
       "  professional_risk_evaluation recidivism recidivism_number_offences  \\\n",
       "0                          Low         No                          0   \n",
       "1                     Moderate        Yes                          1   \n",
       "2                          Low         No                          0   \n",
       "3                         High         No                          0   \n",
       "4                     Moderate         No                          0   \n",
       "\n",
       "  recidividm_category_first_offence recidivism_violence_first_offence  \\\n",
       "0                    Not applicable                    Not applicable   \n",
       "1                            Others                        No violent   \n",
       "2                    Not applicable                    Not applicable   \n",
       "3                    Not applicable                    Not applicable   \n",
       "4                    Not applicable                    Not applicable   \n",
       "\n",
       "  recidivism_severity  \n",
       "0                   0  \n",
       "1                   1  \n",
       "2                   0  \n",
       "3                   0  \n",
       "4                   0  \n",
       "\n",
       "[5 rows x 52 columns]"
      ]
     },
     "execution_count": 2,
     "metadata": {},
     "output_type": "execute_result"
    }
   ],
   "source": [
    "FILENAME_DATASET = 'savry_cejfe_2017.csv'\n",
    "\n",
    "df = pd.read_csv(FILENAME_DATASET, sep='\\t', index_col=False)\n",
    "df.head()"
   ]
  },
  {
   "cell_type": "markdown",
   "metadata": {},
   "source": [
    "# Descriptive statistics\n",
    "\n",
    "A few histograms of some relevant attributes, feel free to explore more on your own."
   ]
  },
  {
   "cell_type": "code",
   "execution_count": 3,
   "metadata": {},
   "outputs": [
    {
     "name": "stdout",
     "output_type": "stream",
     "text": [
      "850\n"
     ]
    }
   ],
   "source": [
    "print(len(df))"
   ]
  },
  {
   "cell_type": "code",
   "execution_count": 4,
   "metadata": {},
   "outputs": [
    {
     "data": {
      "image/png": "[encoded data removed]",
      "text/plain": [
       "<Figure size 432x288 with 1 Axes>"
      ]
     },
     "metadata": {},
     "output_type": "display_data"
    }
   ],
   "source": [
    "_ = df['gender'].value_counts(ascending=True).plot(kind='barh', title='Gender')"
   ]
  },
  {
   "cell_type": "code",
   "execution_count": 5,
   "metadata": {},
   "outputs": [
    {
     "data": {
      "image/png": "[encoded data removed]",
      "text/plain": [
       "<Figure size 432x288 with 1 Axes>"
      ]
     },
     "metadata": {},
     "output_type": "display_data"
    }
   ],
   "source": [
    "_ = df['nationality'].value_counts(ascending=True).plot(kind='barh', title='Nationality')"
   ]
  },
  {
   "cell_type": "code",
   "execution_count": 6,
   "metadata": {},
   "outputs": [
    {
     "data": {
      "image/png": "[encoded data removed]",
      "text/plain": [
       "<Figure size 432x288 with 1 Axes>"
      ]
     },
     "metadata": {},
     "output_type": "display_data"
    }
   ],
   "source": [
    "_ = df['main_crime_age'].value_counts(ascending=True).plot(kind='barh', title='Age of main crime')"
   ]
  },
  {
   "cell_type": "code",
   "execution_count": 7,
   "metadata": {},
   "outputs": [
    {
     "data": {
      "image/png": "[encoded data removed]",
      "text/plain": [
       "<Figure size 432x288 with 1 Axes>"
      ]
     },
     "metadata": {},
     "output_type": "display_data"
    }
   ],
   "source": [
    "_ = df['main_crime_category'].value_counts(ascending=True).plot(kind='barh', title='Type of index crime')"
   ]
  },
  {
   "cell_type": "markdown",
   "metadata": {},
   "source": [
    "# Features that are more connected to recidivism\n",
    "\n",
    "We use scikit-learn [Chi Squared test](https://scikit-learn.org/stable/modules/generated/sklearn.feature_selection.chi2.html). The p-values are interpreted as the strength of the feature, with smaller p-values indicating a better feature."
   ]
  },
  {
   "cell_type": "code",
   "execution_count": 8,
   "metadata": {},
   "outputs": [
    {
     "data": {
      "text/plain": [
       "sum_all_risk_items                               2.364020e-48\n",
       "sum_social_risk_items                            3.735096e-19\n",
       "sum_individual_risk_items                        9.627105e-19\n",
       "sum_historic_risk_items                          1.171836e-14\n",
       "sum_all_protective_items                         2.648334e-12\n",
       "criminal_records_More than 5 criminal records    2.994868e-10\n",
       "professional_risk_evaluation_High                3.066945e-09\n",
       "professional_risk_evaluation_Low                 2.545610e-07\n",
       "risk11_delinquency_peer_group_Low                1.141544e-06\n",
       "risk11_delinquency_peer_group_High               4.429592e-06\n",
       "dtype: float64"
      ]
     },
     "execution_count": 8,
     "metadata": {},
     "output_type": "execute_result"
    }
   ],
   "source": [
    "recidivism_details_columns = [\"recidivism_number_offences\", \"recidividm_category_first_offence\", \"recidivism_violence_first_offence\", \"recidivism_severity\"]\n",
    "\n",
    "X = pd.get_dummies(df.drop(columns=[\"recidivism\"] + recidivism_details_columns))\n",
    "y = pd.get_dummies(df[\"recidivism\"])[\"Yes\"]\n",
    "\n",
    "chisq, pval = chi2(X, y)\n",
    "\n",
    "feature_chi2 = pd.Series(pval, X.columns.values)\n",
    "feature_chi2.sort_values(0).head(10)"
   ]
  },
  {
   "cell_type": "markdown",
   "metadata": {},
   "source": [
    "# Recidivism and human assessment\n",
    "\n",
    "The column `professional_risk_evaluation` is an evaluation done by a professional expert, based on the results of SAVRY but applying his/her own judgment independently of the obtained score.\n",
    "\n",
    "The expert rates each defendant as \"low\", \"medium\", or \"high\" risk. Ideally, defendants considered low risk should recidivate at a lower rate than defendants considered high risk."
   ]
  },
  {
   "cell_type": "code",
   "execution_count": 9,
   "metadata": {},
   "outputs": [
    {
     "data": {
      "image/png": "[encoded data removed]",
      "text/plain": [
       "<Figure size 432x288 with 1 Axes>"
      ]
     },
     "metadata": {},
     "output_type": "display_data"
    }
   ],
   "source": [
    "human_ctable = pd.crosstab(df.professional_risk_evaluation, df.recidivism)\n",
    "human_ctable = human_ctable.reindex(index=[\"Low\", \"Moderate\", \"High\"])\n",
    "_ = human_ctable.plot(kind='barh')"
   ]
  },
  {
   "cell_type": "code",
   "execution_count": 10,
   "metadata": {},
   "outputs": [
    {
     "data": {
      "text/html": [
       "<div>\n",
       "<style scoped>\n",
       "    .dataframe tbody tr th:only-of-type {\n",
       "        vertical-align: middle;\n",
       "    }\n",
       "\n",
       "    .dataframe tbody tr th {\n",
       "        vertical-align: top;\n",
       "    }\n",
       "\n",
       "    .dataframe thead th {\n",
       "        text-align: right;\n",
       "    }\n",
       "</style>\n",
       "<table border=\"1\" class=\"dataframe\">\n",
       "  <thead>\n",
       "    <tr style=\"text-align: right;\">\n",
       "      <th>recidivism</th>\n",
       "      <th>No</th>\n",
       "      <th>Yes</th>\n",
       "      <th>recidivism_rate</th>\n",
       "    </tr>\n",
       "    <tr>\n",
       "      <th>professional_risk_evaluation</th>\n",
       "      <th></th>\n",
       "      <th></th>\n",
       "      <th></th>\n",
       "    </tr>\n",
       "  </thead>\n",
       "  <tbody>\n",
       "    <tr>\n",
       "      <th>Low</th>\n",
       "      <td>259</td>\n",
       "      <td>62</td>\n",
       "      <td>0.193146</td>\n",
       "    </tr>\n",
       "    <tr>\n",
       "      <th>Moderate</th>\n",
       "      <td>247</td>\n",
       "      <td>135</td>\n",
       "      <td>0.353403</td>\n",
       "    </tr>\n",
       "    <tr>\n",
       "      <th>High</th>\n",
       "      <td>65</td>\n",
       "      <td>82</td>\n",
       "      <td>0.557823</td>\n",
       "    </tr>\n",
       "  </tbody>\n",
       "</table>\n",
       "</div>"
      ],
      "text/plain": [
       "recidivism                     No  Yes  recidivism_rate\n",
       "professional_risk_evaluation                           \n",
       "Low                           259   62         0.193146\n",
       "Moderate                      247  135         0.353403\n",
       "High                           65   82         0.557823"
      ]
     },
     "execution_count": 10,
     "metadata": {},
     "output_type": "execute_result"
    }
   ],
   "source": [
    "human_ctable[\"recidivism_rate\"] = pd.Series(index=human_ctable.index)\n",
    "for index, row in human_ctable.iterrows():\n",
    "    recidivism_rate =row[\"Yes\"] / (row[\"Yes\"] + row[\"No\"])\n",
    "    human_ctable.at[index, \"recidivism_rate\"] = recidivism_rate\n",
    "    \n",
    "human_ctable"
   ]
  },
  {
   "cell_type": "markdown",
   "metadata": {},
   "source": [
    "# Recidivism and overall score in structured assessment\n",
    "\n",
    "The column `sum_all_risk_items` contains a sum of scores in the risk items of SAVRY."
   ]
  },
  {
   "cell_type": "code",
   "execution_count": 11,
   "metadata": {},
   "outputs": [],
   "source": [
    "scores_recidivists = df[df[\"recidivism\"]=='Yes'][\"sum_all_risk_items\"].values\n",
    "scores_non_recidivists = df[df[\"recidivism\"]=='No'][\"sum_all_risk_items\"].values"
   ]
  },
  {
   "cell_type": "code",
   "execution_count": 12,
   "metadata": {},
   "outputs": [],
   "source": [
    "def compare_histograms(scores1, scores2, title, label1='Recidivists', label2='Non recidivists'):\n",
    "    plt.figure(figsize=(10,6))\n",
    "    plt.hist(scores1, histtype='step', label=label1, density=True, color='red')\n",
    "    plt.hist(scores2, histtype='step', label=label2, density=True, color='blue')\n",
    "    plt.legend(loc='upper right', fontsize='x-large')\n",
    "    plt.ylabel('Probability')\n",
    "    plt.xlabel(title)\n",
    "    plt.show()"
   ]
  },
  {
   "cell_type": "code",
   "execution_count": 13,
   "metadata": {},
   "outputs": [
    {
     "data": {
      "image/png": "[encoded data removed]",
      "text/plain": [
       "<Figure size 720x432 with 1 Axes>"
      ]
     },
     "metadata": {},
     "output_type": "display_data"
    }
   ],
   "source": [
    "compare_histograms(scores_recidivists, scores_non_recidivists, 'Sum of all risk items')"
   ]
  },
  {
   "cell_type": "code",
   "execution_count": 14,
   "metadata": {},
   "outputs": [],
   "source": [
    "def draw_roc_curve( ground_truth, predictions, pos_label=\"Yes\"):\n",
    "    fpr, tpr, thresholds = roc_curve(ground_truth, predictions, pos_label=pos_label)\n",
    "    roc_auc = auc(fpr, tpr)\n",
    "\n",
    "    plt.figure(figsize=(10,6))\n",
    "    lw = 2\n",
    "    plt.plot(fpr, tpr, color='darkorange',\n",
    "             lw=lw, label='ROC curve (AUC = %0.2f)' % roc_auc)\n",
    "    plt.plot([0, 1], [0, 1], color='navy', lw=lw, linestyle='--')\n",
    "    plt.xlim([0.0, 1.0])\n",
    "    plt.ylim([0.0, 1.05])\n",
    "    plt.xlabel('False Positive Rate')\n",
    "    plt.ylabel('True Positive Rate')\n",
    "    plt.title('Receiver Operating Characteristic')\n",
    "    plt.legend(loc=\"lower right\", fontsize='x-large')\n",
    "    plt.show()\n",
    "    return roc_auc"
   ]
  },
  {
   "cell_type": "code",
   "execution_count": 15,
   "metadata": {},
   "outputs": [
    {
     "data": {
      "image/png": "[encoded data removed]",
      "text/plain": [
       "<Figure size 720x432 with 1 Axes>"
      ]
     },
     "metadata": {},
     "output_type": "display_data"
    }
   ],
   "source": [
    "_ = draw_roc_curve(df[\"recidivism\"].values, df[\"sum_all_risk_items\"].values)"
   ]
  },
  {
   "cell_type": "markdown",
   "metadata": {},
   "source": [
    "# Modeling recidivism using logistic regression\n",
    "\n",
    "Logistic regression is a simple yet effective classification model for this problem.\n",
    "\n",
    "In all cases above we will use the same training/testing split, which is done randomly, keeping 1/3 of the data for testing. You can repeat the following cells a couple of times to see how a different train/test split changes the AUC."
   ]
  },
  {
   "cell_type": "code",
   "execution_count": 16,
   "metadata": {},
   "outputs": [],
   "source": [
    "train, test = train_test_split(df, test_size=0.33)"
   ]
  },
  {
   "cell_type": "markdown",
   "metadata": {},
   "source": [
    "## Modeling recidivism (24 risk factors)\n",
    "\n",
    "Now we model recidivism by using the 24 risk factors in SAVRY.\n",
    "\n",
    "Note that the performance depends on the training/testing split which is done randomly, keeping 1/3 of the data for testing. Repeat the following cells a couple of times to see how a different train/test split changes the AUC."
   ]
  },
  {
   "cell_type": "code",
   "execution_count": 17,
   "metadata": {},
   "outputs": [],
   "source": [
    "risk_factor_columns = [\"risk01_previous_violence\", \"risk02_history_nonviolent_offences\",\n",
    "                       \"risk03_early_violence_before_14\", \"risk04_past_intervention_fail\",\n",
    "                       \"risk05_self_harm_suicide_attempts\", \"risk06_violence_at_home\",\n",
    "                       \"risk07_childhood_mistreatment\", \"risk08_criminal_parent_caregiver\",\n",
    "                       \"risk09_early_separation_parents\", \"risk10_poor_school_achievement\", \n",
    "                       \"risk11_delinquency_peer_group\", \"risk12_rejection_peer_group\",\n",
    "                       \"risk13_poor_stress_coping\", \"risk14_poor_parental_skills_parents\",\n",
    "                       \"risk15_lack_of_personal_social_support\", \"risk16_marginalized_environment\",\n",
    "                       \"risk17_negative_attitudes\", \"risk18_risk_taker_impulsive\",\n",
    "                       \"risk19_drug_abuse\", \"risk20_anger_management_issues\",\n",
    "                       \"risk21_low_empaty\", \"risk22_attention_deficit\",\n",
    "                       \"risk23_poor_compliance_interventions\", \"risk24_low_commitment_school\"]\n",
    "\n",
    "train_X = pd.get_dummies(train[risk_factor_columns])\n",
    "train_y = train[\"recidivism\"]\n",
    "\n",
    "test_X = pd.get_dummies(test[risk_factor_columns])\n",
    "test_y = test[\"recidivism\"]"
   ]
  },
  {
   "cell_type": "code",
   "execution_count": 18,
   "metadata": {},
   "outputs": [
    {
     "data": {
      "text/plain": [
       "LogisticRegression(C=1.0, class_weight=None, dual=False, fit_intercept=True,\n",
       "          intercept_scaling=1, max_iter=100, multi_class='ovr', n_jobs=1,\n",
       "          penalty='l2', random_state=None, solver='liblinear', tol=0.0001,\n",
       "          verbose=0, warm_start=False)"
      ]
     },
     "execution_count": 18,
     "metadata": {},
     "output_type": "execute_result"
    }
   ],
   "source": [
    "model = LogisticRegression(solver='liblinear')\n",
    "model.fit(train_X, train_y)"
   ]
  },
  {
   "cell_type": "code",
   "execution_count": 19,
   "metadata": {},
   "outputs": [],
   "source": [
    "pred24_y = model.predict_proba(test_X)[:,1]\n",
    "pred24_recidivists = pred24_y[test_y == 'Yes']\n",
    "pred24_non_recidivists = pred24_y[test_y == 'No']"
   ]
  },
  {
   "cell_type": "code",
   "execution_count": 20,
   "metadata": {},
   "outputs": [
    {
     "data": {
      "image/png": "[encoded data removed]",
      "text/plain": [
       "<Figure size 720x432 with 1 Axes>"
      ]
     },
     "metadata": {},
     "output_type": "display_data"
    }
   ],
   "source": [
    "compare_histograms(pred24_recidivists, pred24_non_recidivists, 'Prediction')"
   ]
  },
  {
   "cell_type": "code",
   "execution_count": 21,
   "metadata": {},
   "outputs": [
    {
     "data": {
      "image/png": "[encoded data removed]",
      "text/plain": [
       "<Figure size 720x432 with 1 Axes>"
      ]
     },
     "metadata": {},
     "output_type": "display_data"
    }
   ],
   "source": [
    "_ = draw_roc_curve(test_y, pred24_y)"
   ]
  },
  {
   "cell_type": "markdown",
   "metadata": {},
   "source": [
    "## Modeling recidivism (personal history factors)\n",
    "\n",
    "Next we use demographic factors: gender and nationality, as well as criminal history factors such as the age of commission of the index crime and its type, as well as whether the juvenile defendant has criminal records."
   ]
  },
  {
   "cell_type": "code",
   "execution_count": 22,
   "metadata": {},
   "outputs": [],
   "source": [
    "demographic_columns = [\"gender\", \"nationality\", \"main_crime_age\", \"criminal_records\",\n",
    "                       \"main_crime_category\", \"main_crime_is_violent\"]\n",
    "                       \n",
    "train_X = pd.get_dummies(train[risk_factor_columns])\n",
    "train_y = train[\"recidivism\"]\n",
    "\n",
    "test_X = pd.get_dummies(test[risk_factor_columns])\n",
    "test_y = test[\"recidivism\"]"
   ]
  },
  {
   "cell_type": "code",
   "execution_count": 23,
   "metadata": {},
   "outputs": [
    {
     "data": {
      "text/plain": [
       "LogisticRegression(C=1.0, class_weight=None, dual=False, fit_intercept=True,\n",
       "          intercept_scaling=1, max_iter=100, multi_class='ovr', n_jobs=1,\n",
       "          penalty='l2', random_state=None, solver='liblinear', tol=0.0001,\n",
       "          verbose=0, warm_start=False)"
      ]
     },
     "execution_count": 23,
     "metadata": {},
     "output_type": "execute_result"
    }
   ],
   "source": [
    "model = LogisticRegression(solver='liblinear')\n",
    "model.fit(train_X, train_y)"
   ]
  },
  {
   "cell_type": "code",
   "execution_count": 24,
   "metadata": {},
   "outputs": [],
   "source": [
    "predPH_y = model.predict_proba(test_X)[:,1]\n",
    "predPH_recidivists = predPH_y[test_y == 'Yes']\n",
    "predPH_non_recidivists = predPH_y[test_y == 'No']"
   ]
  },
  {
   "cell_type": "code",
   "execution_count": 25,
   "metadata": {},
   "outputs": [
    {
     "data": {
      "image/png": "[encoded data removed]",
      "text/plain": [
       "<Figure size 720x432 with 1 Axes>"
      ]
     },
     "metadata": {},
     "output_type": "display_data"
    }
   ],
   "source": [
    "compare_histograms(predPH_recidivists, predPH_non_recidivists, 'Prediction')"
   ]
  },
  {
   "cell_type": "code",
   "execution_count": 26,
   "metadata": {},
   "outputs": [
    {
     "data": {
      "image/png": "[encoded data removed]",
      "text/plain": [
       "<Figure size 720x432 with 1 Axes>"
      ]
     },
     "metadata": {},
     "output_type": "display_data"
    }
   ],
   "source": [
    "_ = draw_roc_curve(test_y, predPH_y)"
   ]
  },
  {
   "cell_type": "markdown",
   "metadata": {},
   "source": [
    "## Modeling recidivism (personal history + 24 risk factors + 6 protective factors)\n",
    "\n",
    "We now add to the above 6 \"protective\" or positive factors that are associated with a low risk."
   ]
  },
  {
   "cell_type": "code",
   "execution_count": 27,
   "metadata": {},
   "outputs": [],
   "source": [
    "protective_factor_columns = [\"protective01_prosocial_activities\", \"protective02_strong_social_support\",\n",
    "                             \"protective03_strong_link_prosocial_adult\", \"protective04_positive_attitude_interventions\",\n",
    "                             \"protective05_high_commitment_school_or_work\", \"protective06_perseverant_personality\"]\n",
    "\n",
    "factors = demographic_columns + risk_factor_columns + protective_factor_columns\n",
    "\n",
    "train_X = pd.get_dummies(train[factors])\n",
    "train_y = train[\"recidivism\"]\n",
    "\n",
    "test_X = pd.get_dummies(test[factors])\n",
    "test_y = test[\"recidivism\"]"
   ]
  },
  {
   "cell_type": "code",
   "execution_count": 28,
   "metadata": {},
   "outputs": [
    {
     "data": {
      "text/plain": [
       "LogisticRegression(C=1.0, class_weight=None, dual=False, fit_intercept=True,\n",
       "          intercept_scaling=1, max_iter=100, multi_class='ovr', n_jobs=1,\n",
       "          penalty='l2', random_state=None, solver='liblinear', tol=0.0001,\n",
       "          verbose=0, warm_start=False)"
      ]
     },
     "execution_count": 28,
     "metadata": {},
     "output_type": "execute_result"
    }
   ],
   "source": [
    "model = LogisticRegression(solver='liblinear')\n",
    "model.fit(train_X, train_y)"
   ]
  },
  {
   "cell_type": "code",
   "execution_count": 29,
   "metadata": {},
   "outputs": [],
   "source": [
    "predALL_y = model.predict_proba(test_X)[:,1]\n",
    "predALL_recidivists = predALL_y[test_y == 'Yes']\n",
    "predALL_non_recidivists = predALL_y[test_y == 'No']"
   ]
  },
  {
   "cell_type": "code",
   "execution_count": 30,
   "metadata": {},
   "outputs": [
    {
     "data": {
      "image/png": "[encoded data removed]",
      "text/plain": [
       "<Figure size 720x432 with 1 Axes>"
      ]
     },
     "metadata": {},
     "output_type": "display_data"
    }
   ],
   "source": [
    "compare_histograms(predALL_recidivists, predALL_non_recidivists, 'Prediction')"
   ]
  },
  {
   "cell_type": "code",
   "execution_count": 31,
   "metadata": {},
   "outputs": [
    {
     "data": {
      "image/png": "[encoded data removed]",
      "text/plain": [
       "<Figure size 720x432 with 1 Axes>"
      ]
     },
     "metadata": {},
     "output_type": "display_data"
    }
   ],
   "source": [
    "_ = draw_roc_curve(test_y, predALL_y)"
   ]
  },
  {
   "cell_type": "markdown",
   "metadata": {},
   "source": [
    "# Recidivism rates are different per sub-populations\n",
    "\n",
    "We remark that fairness is not necessarily that people in different groups obtain the same outcomes. For instance, in this dataset, women recidivate at about half the rate as men, and foreigners at a much higher rate than nationals."
   ]
  },
  {
   "cell_type": "code",
   "execution_count": 32,
   "metadata": {},
   "outputs": [
    {
     "data": {
      "text/html": [
       "<div>\n",
       "<style scoped>\n",
       "    .dataframe tbody tr th:only-of-type {\n",
       "        vertical-align: middle;\n",
       "    }\n",
       "\n",
       "    .dataframe tbody tr th {\n",
       "        vertical-align: top;\n",
       "    }\n",
       "\n",
       "    .dataframe thead th {\n",
       "        text-align: right;\n",
       "    }\n",
       "</style>\n",
       "<table border=\"1\" class=\"dataframe\">\n",
       "  <thead>\n",
       "    <tr style=\"text-align: right;\">\n",
       "      <th>gender</th>\n",
       "      <th>Female</th>\n",
       "      <th>Male</th>\n",
       "    </tr>\n",
       "    <tr>\n",
       "      <th>recidivism</th>\n",
       "      <th></th>\n",
       "      <th></th>\n",
       "    </tr>\n",
       "  </thead>\n",
       "  <tbody>\n",
       "    <tr>\n",
       "      <th>No</th>\n",
       "      <td>90</td>\n",
       "      <td>481</td>\n",
       "    </tr>\n",
       "    <tr>\n",
       "      <th>Yes</th>\n",
       "      <td>18</td>\n",
       "      <td>261</td>\n",
       "    </tr>\n",
       "  </tbody>\n",
       "</table>\n",
       "</div>"
      ],
      "text/plain": [
       "gender      Female  Male\n",
       "recidivism              \n",
       "No              90   481\n",
       "Yes             18   261"
      ]
     },
     "execution_count": 32,
     "metadata": {},
     "output_type": "execute_result"
    }
   ],
   "source": [
    "recidivism_by_gender = pd.crosstab(df.recidivism, df.gender)\n",
    "recidivism_by_gender"
   ]
  },
  {
   "cell_type": "code",
   "execution_count": 33,
   "metadata": {},
   "outputs": [
    {
     "data": {
      "text/html": [
       "<div>\n",
       "<style scoped>\n",
       "    .dataframe tbody tr th:only-of-type {\n",
       "        vertical-align: middle;\n",
       "    }\n",
       "\n",
       "    .dataframe tbody tr th {\n",
       "        vertical-align: top;\n",
       "    }\n",
       "\n",
       "    .dataframe thead th {\n",
       "        text-align: right;\n",
       "    }\n",
       "</style>\n",
       "<table border=\"1\" class=\"dataframe\">\n",
       "  <thead>\n",
       "    <tr style=\"text-align: right;\">\n",
       "      <th>gender</th>\n",
       "      <th>Female</th>\n",
       "      <th>Male</th>\n",
       "    </tr>\n",
       "    <tr>\n",
       "      <th>recidivism</th>\n",
       "      <th></th>\n",
       "      <th></th>\n",
       "    </tr>\n",
       "  </thead>\n",
       "  <tbody>\n",
       "    <tr>\n",
       "      <th>No</th>\n",
       "      <td>0.833333</td>\n",
       "      <td>0.648248</td>\n",
       "    </tr>\n",
       "    <tr>\n",
       "      <th>Yes</th>\n",
       "      <td>0.166667</td>\n",
       "      <td>0.351752</td>\n",
       "    </tr>\n",
       "  </tbody>\n",
       "</table>\n",
       "</div>"
      ],
      "text/plain": [
       "gender        Female      Male\n",
       "recidivism                    \n",
       "No          0.833333  0.648248\n",
       "Yes         0.166667  0.351752"
      ]
     },
     "execution_count": 33,
     "metadata": {},
     "output_type": "execute_result"
    }
   ],
   "source": [
    "recidivism_by_gender['Female'] = recidivism_by_gender['Female'] / recidivism_by_gender['Female'].sum()\n",
    "recidivism_by_gender['Male'] = recidivism_by_gender['Male'] / recidivism_by_gender['Male'].sum()\n",
    "recidivism_by_gender"
   ]
  },
  {
   "cell_type": "code",
   "execution_count": 34,
   "metadata": {},
   "outputs": [
    {
     "data": {
      "text/html": [
       "<div>\n",
       "<style scoped>\n",
       "    .dataframe tbody tr th:only-of-type {\n",
       "        vertical-align: middle;\n",
       "    }\n",
       "\n",
       "    .dataframe tbody tr th {\n",
       "        vertical-align: top;\n",
       "    }\n",
       "\n",
       "    .dataframe thead th {\n",
       "        text-align: right;\n",
       "    }\n",
       "</style>\n",
       "<table border=\"1\" class=\"dataframe\">\n",
       "  <thead>\n",
       "    <tr style=\"text-align: right;\">\n",
       "      <th>nationality</th>\n",
       "      <th>Foreigner</th>\n",
       "      <th>Spanish</th>\n",
       "    </tr>\n",
       "    <tr>\n",
       "      <th>recidivism</th>\n",
       "      <th></th>\n",
       "      <th></th>\n",
       "    </tr>\n",
       "  </thead>\n",
       "  <tbody>\n",
       "    <tr>\n",
       "      <th>No</th>\n",
       "      <td>189</td>\n",
       "      <td>382</td>\n",
       "    </tr>\n",
       "    <tr>\n",
       "      <th>Yes</th>\n",
       "      <td>141</td>\n",
       "      <td>138</td>\n",
       "    </tr>\n",
       "  </tbody>\n",
       "</table>\n",
       "</div>"
      ],
      "text/plain": [
       "nationality  Foreigner  Spanish\n",
       "recidivism                     \n",
       "No                 189      382\n",
       "Yes                141      138"
      ]
     },
     "execution_count": 34,
     "metadata": {},
     "output_type": "execute_result"
    }
   ],
   "source": [
    "recidivism_by_nationality = pd.crosstab(df.recidivism, df.nationality)\n",
    "recidivism_by_nationality"
   ]
  },
  {
   "cell_type": "code",
   "execution_count": 35,
   "metadata": {},
   "outputs": [
    {
     "data": {
      "text/html": [
       "<div>\n",
       "<style scoped>\n",
       "    .dataframe tbody tr th:only-of-type {\n",
       "        vertical-align: middle;\n",
       "    }\n",
       "\n",
       "    .dataframe tbody tr th {\n",
       "        vertical-align: top;\n",
       "    }\n",
       "\n",
       "    .dataframe thead th {\n",
       "        text-align: right;\n",
       "    }\n",
       "</style>\n",
       "<table border=\"1\" class=\"dataframe\">\n",
       "  <thead>\n",
       "    <tr style=\"text-align: right;\">\n",
       "      <th>nationality</th>\n",
       "      <th>Foreigner</th>\n",
       "      <th>Spanish</th>\n",
       "    </tr>\n",
       "    <tr>\n",
       "      <th>recidivism</th>\n",
       "      <th></th>\n",
       "      <th></th>\n",
       "    </tr>\n",
       "  </thead>\n",
       "  <tbody>\n",
       "    <tr>\n",
       "      <th>No</th>\n",
       "      <td>0.572727</td>\n",
       "      <td>0.734615</td>\n",
       "    </tr>\n",
       "    <tr>\n",
       "      <th>Yes</th>\n",
       "      <td>0.427273</td>\n",
       "      <td>0.265385</td>\n",
       "    </tr>\n",
       "  </tbody>\n",
       "</table>\n",
       "</div>"
      ],
      "text/plain": [
       "nationality  Foreigner   Spanish\n",
       "recidivism                      \n",
       "No            0.572727  0.734615\n",
       "Yes           0.427273  0.265385"
      ]
     },
     "execution_count": 35,
     "metadata": {},
     "output_type": "execute_result"
    }
   ],
   "source": [
    "recidivism_by_nationality['Spanish'] = recidivism_by_nationality['Spanish'] / recidivism_by_nationality['Spanish'].sum()\n",
    "recidivism_by_nationality['Foreigner'] = recidivism_by_nationality['Foreigner'] / recidivism_by_nationality['Foreigner'].sum()\n",
    "recidivism_by_nationality"
   ]
  },
  {
   "cell_type": "markdown",
   "metadata": {},
   "source": [
    "# Fairness as equality of error rates\n",
    "\n",
    "We look at fairness as **equality of error rates**, in this case false positive rates, following [Zafar et al. 2017](https://doi.org/10.1145/3038912.3052660) and [Hardt et al. 2016](http://papers.nips.cc/paper/6373-equality-of-opportunity-in-supervised-learning)."
   ]
  },
  {
   "cell_type": "markdown",
   "metadata": {},
   "source": [
    "## Professional (human expert) recidivism prediction and fairness\n",
    "\n",
    "We consider people who did not recidivate, in particular, look at those who were given a \"high\" risk by the expert."
   ]
  },
  {
   "cell_type": "code",
   "execution_count": 36,
   "metadata": {},
   "outputs": [
    {
     "data": {
      "text/html": [
       "<div>\n",
       "<style scoped>\n",
       "    .dataframe tbody tr th:only-of-type {\n",
       "        vertical-align: middle;\n",
       "    }\n",
       "\n",
       "    .dataframe tbody tr th {\n",
       "        vertical-align: top;\n",
       "    }\n",
       "\n",
       "    .dataframe thead th {\n",
       "        text-align: right;\n",
       "    }\n",
       "</style>\n",
       "<table border=\"1\" class=\"dataframe\">\n",
       "  <thead>\n",
       "    <tr style=\"text-align: right;\">\n",
       "      <th>gender</th>\n",
       "      <th>Female</th>\n",
       "      <th>Male</th>\n",
       "    </tr>\n",
       "    <tr>\n",
       "      <th>professional_risk_evaluation</th>\n",
       "      <th></th>\n",
       "      <th></th>\n",
       "    </tr>\n",
       "  </thead>\n",
       "  <tbody>\n",
       "    <tr>\n",
       "      <th>High</th>\n",
       "      <td>9</td>\n",
       "      <td>56</td>\n",
       "    </tr>\n",
       "    <tr>\n",
       "      <th>Low</th>\n",
       "      <td>44</td>\n",
       "      <td>215</td>\n",
       "    </tr>\n",
       "    <tr>\n",
       "      <th>Moderate</th>\n",
       "      <td>37</td>\n",
       "      <td>210</td>\n",
       "    </tr>\n",
       "  </tbody>\n",
       "</table>\n",
       "</div>"
      ],
      "text/plain": [
       "gender                        Female  Male\n",
       "professional_risk_evaluation              \n",
       "High                               9    56\n",
       "Low                               44   215\n",
       "Moderate                          37   210"
      ]
     },
     "execution_count": 36,
     "metadata": {},
     "output_type": "execute_result"
    }
   ],
   "source": [
    "non_recidivists = df[df[\"recidivism\"] == 'No']\n",
    "non_recidivists_expert_by_gender = pd.crosstab(non_recidivists.professional_risk_evaluation, non_recidivists.gender)\n",
    "non_recidivists_expert_by_gender.reindex(index=[\"Low\", \"Moderate\", \"High\"])\n",
    "non_recidivists_expert_by_gender"
   ]
  },
  {
   "cell_type": "code",
   "execution_count": 37,
   "metadata": {},
   "outputs": [
    {
     "data": {
      "text/html": [
       "<div>\n",
       "<style scoped>\n",
       "    .dataframe tbody tr th:only-of-type {\n",
       "        vertical-align: middle;\n",
       "    }\n",
       "\n",
       "    .dataframe tbody tr th {\n",
       "        vertical-align: top;\n",
       "    }\n",
       "\n",
       "    .dataframe thead th {\n",
       "        text-align: right;\n",
       "    }\n",
       "</style>\n",
       "<table border=\"1\" class=\"dataframe\">\n",
       "  <thead>\n",
       "    <tr style=\"text-align: right;\">\n",
       "      <th>gender</th>\n",
       "      <th>Female</th>\n",
       "      <th>Male</th>\n",
       "    </tr>\n",
       "    <tr>\n",
       "      <th>professional_risk_evaluation</th>\n",
       "      <th></th>\n",
       "      <th></th>\n",
       "    </tr>\n",
       "  </thead>\n",
       "  <tbody>\n",
       "    <tr>\n",
       "      <th>High</th>\n",
       "      <td>0.100000</td>\n",
       "      <td>0.116424</td>\n",
       "    </tr>\n",
       "    <tr>\n",
       "      <th>Low</th>\n",
       "      <td>0.488889</td>\n",
       "      <td>0.446985</td>\n",
       "    </tr>\n",
       "    <tr>\n",
       "      <th>Moderate</th>\n",
       "      <td>0.411111</td>\n",
       "      <td>0.436590</td>\n",
       "    </tr>\n",
       "  </tbody>\n",
       "</table>\n",
       "</div>"
      ],
      "text/plain": [
       "gender                          Female      Male\n",
       "professional_risk_evaluation                    \n",
       "High                          0.100000  0.116424\n",
       "Low                           0.488889  0.446985\n",
       "Moderate                      0.411111  0.436590"
      ]
     },
     "execution_count": 37,
     "metadata": {},
     "output_type": "execute_result"
    }
   ],
   "source": [
    "non_recidivists_expert_by_gender[\"Male\"] = non_recidivists_expert_by_gender[\"Male\"] / non_recidivists_expert_by_gender[\"Male\"].sum()\n",
    "non_recidivists_expert_by_gender[\"Female\"] = non_recidivists_expert_by_gender[\"Female\"] / non_recidivists_expert_by_gender[\"Female\"].sum()\n",
    "non_recidivists_expert_by_gender"
   ]
  },
  {
   "cell_type": "code",
   "execution_count": 38,
   "metadata": {},
   "outputs": [
    {
     "data": {
      "text/html": [
       "<div>\n",
       "<style scoped>\n",
       "    .dataframe tbody tr th:only-of-type {\n",
       "        vertical-align: middle;\n",
       "    }\n",
       "\n",
       "    .dataframe tbody tr th {\n",
       "        vertical-align: top;\n",
       "    }\n",
       "\n",
       "    .dataframe thead th {\n",
       "        text-align: right;\n",
       "    }\n",
       "</style>\n",
       "<table border=\"1\" class=\"dataframe\">\n",
       "  <thead>\n",
       "    <tr style=\"text-align: right;\">\n",
       "      <th>nationality</th>\n",
       "      <th>Foreigner</th>\n",
       "      <th>Spanish</th>\n",
       "    </tr>\n",
       "    <tr>\n",
       "      <th>professional_risk_evaluation</th>\n",
       "      <th></th>\n",
       "      <th></th>\n",
       "    </tr>\n",
       "  </thead>\n",
       "  <tbody>\n",
       "    <tr>\n",
       "      <th>High</th>\n",
       "      <td>22</td>\n",
       "      <td>43</td>\n",
       "    </tr>\n",
       "    <tr>\n",
       "      <th>Low</th>\n",
       "      <td>88</td>\n",
       "      <td>171</td>\n",
       "    </tr>\n",
       "    <tr>\n",
       "      <th>Moderate</th>\n",
       "      <td>79</td>\n",
       "      <td>168</td>\n",
       "    </tr>\n",
       "  </tbody>\n",
       "</table>\n",
       "</div>"
      ],
      "text/plain": [
       "nationality                   Foreigner  Spanish\n",
       "professional_risk_evaluation                    \n",
       "High                                 22       43\n",
       "Low                                  88      171\n",
       "Moderate                             79      168"
      ]
     },
     "execution_count": 38,
     "metadata": {},
     "output_type": "execute_result"
    }
   ],
   "source": [
    "non_recidivists_expert_by_nationality = pd.crosstab(non_recidivists.professional_risk_evaluation, non_recidivists.nationality)\n",
    "non_recidivists_expert_by_nationality.reindex(index=[\"Low\", \"Moderate\", \"High\"])\n",
    "non_recidivists_expert_by_nationality"
   ]
  },
  {
   "cell_type": "code",
   "execution_count": 39,
   "metadata": {},
   "outputs": [
    {
     "data": {
      "text/html": [
       "<div>\n",
       "<style scoped>\n",
       "    .dataframe tbody tr th:only-of-type {\n",
       "        vertical-align: middle;\n",
       "    }\n",
       "\n",
       "    .dataframe tbody tr th {\n",
       "        vertical-align: top;\n",
       "    }\n",
       "\n",
       "    .dataframe thead th {\n",
       "        text-align: right;\n",
       "    }\n",
       "</style>\n",
       "<table border=\"1\" class=\"dataframe\">\n",
       "  <thead>\n",
       "    <tr style=\"text-align: right;\">\n",
       "      <th>nationality</th>\n",
       "      <th>Foreigner</th>\n",
       "      <th>Spanish</th>\n",
       "    </tr>\n",
       "    <tr>\n",
       "      <th>professional_risk_evaluation</th>\n",
       "      <th></th>\n",
       "      <th></th>\n",
       "    </tr>\n",
       "  </thead>\n",
       "  <tbody>\n",
       "    <tr>\n",
       "      <th>High</th>\n",
       "      <td>0.116402</td>\n",
       "      <td>0.112565</td>\n",
       "    </tr>\n",
       "    <tr>\n",
       "      <th>Low</th>\n",
       "      <td>0.465608</td>\n",
       "      <td>0.447644</td>\n",
       "    </tr>\n",
       "    <tr>\n",
       "      <th>Moderate</th>\n",
       "      <td>0.417989</td>\n",
       "      <td>0.439791</td>\n",
       "    </tr>\n",
       "  </tbody>\n",
       "</table>\n",
       "</div>"
      ],
      "text/plain": [
       "nationality                   Foreigner   Spanish\n",
       "professional_risk_evaluation                     \n",
       "High                           0.116402  0.112565\n",
       "Low                            0.465608  0.447644\n",
       "Moderate                       0.417989  0.439791"
      ]
     },
     "execution_count": 39,
     "metadata": {},
     "output_type": "execute_result"
    }
   ],
   "source": [
    "non_recidivists_expert_by_nationality[\"Spanish\"] = non_recidivists_expert_by_nationality[\"Spanish\"] / non_recidivists_expert_by_nationality[\"Spanish\"].sum()\n",
    "non_recidivists_expert_by_nationality[\"Foreigner\"] = non_recidivists_expert_by_nationality[\"Foreigner\"] / non_recidivists_expert_by_nationality[\"Foreigner\"].sum()\n",
    "non_recidivists_expert_by_nationality"
   ]
  },
  {
   "cell_type": "markdown",
   "metadata": {},
   "source": [
    "## Overall SAVRY score and fairness"
   ]
  },
  {
   "cell_type": "code",
   "execution_count": 40,
   "metadata": {},
   "outputs": [
    {
     "name": "stdout",
     "output_type": "stream",
     "text": [
      "Average SAVRY score of national non-recidivist: 14.29\n",
      "Average SAVRY score of foreigner non-recidivist: 14.41\n"
     ]
    }
   ],
   "source": [
    "scores_nationals_non_recidivists = df[(df[\"recidivism\"]=='No') &\n",
    "                                      (df[\"nationality\"]=='Spanish')][\"sum_all_risk_items\"].values\n",
    "scores_foreigners_non_recidivists = df[(df[\"recidivism\"]=='No') &\n",
    "                                       (df[\"nationality\"]=='Foreigner')][\"sum_all_risk_items\"].values\n",
    "\n",
    "print(\"Average SAVRY score of national non-recidivist: %.2f\" %\n",
    "      (scores_nationals_non_recidivists.sum() / len(scores_nationals_non_recidivists)))\n",
    "       \n",
    "print(\"Average SAVRY score of foreigner non-recidivist: %.2f\" % \n",
    "      (scores_foreigners_non_recidivists.sum() / len(scores_foreigners_non_recidivists)))"
   ]
  },
  {
   "cell_type": "code",
   "execution_count": 41,
   "metadata": {},
   "outputs": [
    {
     "data": {
      "image/png": "[encoded data removed]",
      "text/plain": [
       "<Figure size 720x432 with 1 Axes>"
      ]
     },
     "metadata": {},
     "output_type": "display_data"
    }
   ],
   "source": [
    "compare_histograms(scores_nationals_non_recidivists, scores_foreigners_non_recidivists,\n",
    "                   \"Non-recidivists overall score\",\n",
    "                   label1=\"Nationals\", label2=\"Foreigners\")"
   ]
  },
  {
   "cell_type": "markdown",
   "metadata": {},
   "source": [
    "## Fairness using ML score"
   ]
  },
  {
   "cell_type": "code",
   "execution_count": 42,
   "metadata": {},
   "outputs": [
    {
     "name": "stdout",
     "output_type": "stream",
     "text": [
      "Average predicted probability of national non-recidivist: 0.34\n",
      "Average predicted probability of foreigner non-recidivist: 0.32\n"
     ]
    }
   ],
   "source": [
    "predPH_nationals_non_recidivists = predPH_y[(test_y=='No') & (test_X[\"nationality_Spanish\"]==1)]\n",
    "predPH_foreigners_non_recidivists = predPH_y[(test_y=='No') & (test_X[\"nationality_Foreigner\"]==1)]\n",
    "\n",
    "print(\"Average predicted probability of national non-recidivist: %.2f\" %\n",
    "      (predPH_nationals_non_recidivists.sum() / len(predPH_nationals_non_recidivists)))\n",
    "       \n",
    "print(\"Average predicted probability of foreigner non-recidivist: %.2f\" % \n",
    "      (predPH_foreigners_non_recidivists.sum() / len(predPH_foreigners_non_recidivists)))"
   ]
  },
  {
   "cell_type": "code",
   "execution_count": 43,
   "metadata": {},
   "outputs": [
    {
     "data": {
      "image/png": "[encoded data removed]",
      "text/plain": [
       "<Figure size 720x432 with 1 Axes>"
      ]
     },
     "metadata": {},
     "output_type": "display_data"
    }
   ],
   "source": [
    "compare_histograms(predPH_nationals_non_recidivists, predPH_foreigners_non_recidivists,\n",
    "                   \"Non-recidivists overall prediction\",\n",
    "                   label1=\"Nationals\", label2=\"Foreigners\")"
   ]
  },
  {
   "cell_type": "markdown",
   "metadata": {},
   "source": [
    "# Suggested activities\n",
    "\n",
    "\n",
    "* Determine the relationship between human risk assessment (`professional_risk_evaluation`) and SAVRY total score (`sum_all_risk_items`).\n",
    "\n",
    "* Consider the prediction of violent crimes only. SAVRY was designed to predict violence, not general recidivism.\n",
    "\n",
    "* Study false negatives: people given low scores but that did recidivate.\n",
    "\n",
    "* Find out if some offences are harder to predict than others\n",
    "\n",
    "* Try using the `recidivism_severity` variable as a target\n",
    "\n",
    "* Try using cross-validation to have a better evaluation of the logistic regression classifier, or doing repeatedly random splits and averaging the results.\n",
    "\n",
    "* Try other machine learning models such as SVM or neural networks.\n",
    "\n",
    "If you find any defect on this dataset or any error in this notebook, please use [ChaTo's contact information](http://chato.cl/blog/en/contact.html). Unfortunately and by necessity I cannot respond to general inquiries about Python or Scikit-Learn."
   ]
  },
  {
   "cell_type": "markdown",
   "metadata": {},
   "source": [
    "# Credits\n",
    "\n",
    "The data file we use is a subset of data obtained by the *Centre d'Estudis Jurídics i Formació Especialitzada* of the Catalan government and released in 2017. Do not use this dataset for research, instead, use the [original dataset](http://cejfe.gencat.cat/en/recerca/cataleg/crono/2017/reincidencia-jj/) and cite the following publication:\n",
    "\n",
    "```\n",
    "@misc{cejfe_2017_savry,\n",
    " title={La reincid\\`{e}ncia en la just\\'{i}cia de menors},\n",
    " author={Marta Blanch and Manel Capdevila and Marta Ferrer and Berta Framis and \\'{U}rsula Ruiz and Judit Mora and Ares Batlle and Berta L\\'{o}pez},\n",
    " year={2017},\n",
    " howpublished={CEJFE},\n",
    " url={http://cejfe.gencat.cat/en/recerca/cataleg/crono/2017/reincidencia-jj/}\n",
    "}\n",
    "```\n",
    "\n",
    "This Python Notebook is provided under a [Creative Commons License](https://creativecommons.org/licenses/by/4.0/)."
   ]
  },
  {
   "cell_type": "code",
   "execution_count": null,
   "metadata": {},
   "outputs": [],
   "source": []
  }
 ],
 "metadata": {
  "kernelspec": {
   "display_name": "Python 3",
   "language": "python",
   "name": "python3"
  },
  "language_info": {
   "codemirror_mode": {
    "name": "ipython",
    "version": 3
   },
   "file_extension": ".py",
   "mimetype": "text/x-python",
   "name": "python",
   "nbconvert_exporter": "python",
   "pygments_lexer": "ipython3",
   "version": "3.6.7"
  }
 },
 "nbformat": 4,
 "nbformat_minor": 2
}
