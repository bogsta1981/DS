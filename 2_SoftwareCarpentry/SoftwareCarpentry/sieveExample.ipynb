{
 "cells": [
  {
   "cell_type": "code",
   "execution_count": null,
   "metadata": {
    "collapsed": false
   },
   "outputs": [],
   "source": [
    "%%HTML\n",
    "<h1> Sieve of Eratosthenes<h1>\n",
    "<a href = \"https://en.wikipedia.org/wiki/Sieve_of_Eratosthenes\"> <img src= \"https://upload.wikimedia.org/wikipedia/commons/b/b9/Sieve_of_Eratosthenes_animation.gif\"> </a>"
   ]
  },
  {
   "cell_type": "code",
   "execution_count": null,
   "metadata": {
    "collapsed": true
   },
   "outputs": [],
   "source": [
    "def sieveOfEratosthenes(n):\n",
    "    \"\"\"sieveOfEratosthenes(n): return the list of the primes < n.\"\"\"\n",
    "    # Code adaptedfrom: <dickinsm@gmail.com>, Nov 30 2006\n",
    "    # http://groups.google.com/group/comp.lang.python/msg/f1f10ced88c68c2d\n",
    "    if n <= 2:\n",
    "        return []\n",
    "    sieve = list(range(3, n, 2))\n",
    "    top = len(sieve)\n",
    "    for si in sieve:\n",
    "        if si:\n",
    "            bottom = (si*si - 3) // 2\n",
    "            if bottom >= top:\n",
    "                break\n",
    "            sieve[bottom::si] = [0] * -((bottom - top) // si)\n",
    "\n",
    "    return [2] + [el for el in sieve if el]"
   ]
  },
  {
   "cell_type": "code",
   "execution_count": null,
   "metadata": {
    "collapsed": false
   },
   "outputs": [],
   "source": [
    "print (sieveOfEratosthenes(1000))"
   ]
  }
 ],
 "metadata": {
  "kernelspec": {
   "display_name": "Python 3",
   "language": "python",
   "name": "python3"
  },
  "language_info": {
   "codemirror_mode": {
    "name": "ipython",
    "version": 3
   },
   "file_extension": ".py",
   "mimetype": "text/x-python",
   "name": "python",
   "nbconvert_exporter": "python",
   "pygments_lexer": "ipython3",
   "version": "3.5.1"
  }
 },
 "nbformat": 4,
 "nbformat_minor": 0
}
