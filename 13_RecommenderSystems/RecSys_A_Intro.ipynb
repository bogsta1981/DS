{
 "cells": [
  {
   "cell_type": "markdown",
   "metadata": {},
   "source": [
    "<small><i>Updated January 2018 - This notebook was created by [Santi Seguí](https://ssegui.github.io/). </i></small>"
   ]
  },
  {
   "cell_type": "markdown",
   "metadata": {},
   "source": [
    "<div class=\"alert alert-info\" style = \"border-radius:10px;border-width:3px;border-color:darkblue;font-family:Verdana,sans-serif;font-size:16px;\">\n",
    "<h1>Recommenders Systems</h1><br>\n",
    "</div>\n",
    "<br>\n",
    "<h2>Overview of the seminar:</h2>\n",
    "<ul>\n",
    "    <li>What is a recommenders systems?</li>\n",
    "    <li>How the recommenders systems work?</li>\n",
    "    <li>How to evaluate the succes?</li>\n",
    "    <li>How to build a recommendation system? </li>\n",
    "</ul>"
   ]
  },
  {
   "cell_type": "markdown",
   "metadata": {},
   "source": [
    "<div class=\"alert alert-success\" style = \"border-radius:10px;border-width:3px;border-color:darkgreen;font-family:Verdana,sans-serif;font-size:16px;\"><a class=\"anchor\" id=\"what-is-a-recommender\"></a><h3>What is a recommeder systems?</h3><br></div>\n",
    "\n",
    "<p>Recommender systems are tools designed for interacting with large and complex information spaces and providing information or items that are likely to be of interest to the user, in an automated fashion. </p>\n",
    "<br>\n",
    "\n",
    "\n",
    "<br>\n",
    "Do we know daily examples of recommendation systems?:\n",
    "\n",
    "### Amazon:\n",
    "![alt Amazon](http://3.bp.blogspot.com/_skxW9kDLt_c/TLfnLNnlnmI/AAAAAAAAfY0/HLqtnI3tItM/s1600/recommender.PNG width=600)\n",
    "<br>\n",
    "### NetFlix:\n",
    "![alt NetFlix](https://dataaspirant.files.wordpress.com/2015/01/netflixrec01_616.jpg)\n",
    "\n",
    "<br>\n",
    "### Pandora:\n",
    "![alt Pandora](http://s.hswstatic.com/gif/pandora-hp.jpg)\n",
    "\n",
    "<br>\n",
    "### Linkedin: \n",
    "![alt Linkedin](https://dataaspirant.files.wordpress.com/2015/01/linkedin.png)\n",
    "\n",
    "<br>\n",
    "### Facebook (I):\n",
    "![alt Facebook](https://dataaspirant.files.wordpress.com/2015/01/8027583588_0232c7d836_z.jpg)\n",
    "\n",
    "<br>\n",
    "\n"
   ]
  },
  {
   "cell_type": "markdown",
   "metadata": {},
   "source": [
    "\n",
    "\n",
    "\n",
    "\n",
    "### What they do and how they work?\n",
    "Recommneder systems use several  information from the users, in order to infer its preferences, it can be from explicit (rating, reviews) to implicit information (navitation, purchases,..) about items and our preferences. User profile and demographics are also important.\n",
    "<br>\n",
    "<br>\n",
    "### Why do we need a recommendation system?\n",
    "![alt Amazon](images/amoutdata.png)\n",
    "\n",
    "<br>\n",
    "* Solution to large amounts of good data\n",
    "* Reduce cognitive load on users\n",
    "* Discover new things\n"
   ]
  },
  {
   "cell_type": "markdown",
   "metadata": {},
   "source": [
    "<div class=\"alert alert-error\" style = \"border-radius:10px;border-width:3px;border-color:darkred;font-family:Verdana,sans-serif;font-size:14px;\">\n",
    "\n",
    "<h2>CAUTION</h2><p>\n",
    "<b>Trust is critical!!</b> Are you recommending me  what is good for me or what is good for you?\n",
    "</p>\n",
    "<br><br>\n",
    "How can we improve out trustness: <b>Being transparent!</b> Some examples:\n",
    "<img src=\"images/transparency1.png\" width=600>\n",
    "<br>\n",
    "<hr>\n",
    "<img src=\"images/transparency2.png\" width=600>\n",
    "<br>\n",
    "<hr>\n",
    "<img src=\"images/transparency3.png\" width=600>\n",
    "<hr>\n",
    "\n",
    "<hr>\n",
    "Another important rule:  <b> Not everything is allowed!!</b>\n",
    "<p> The ethics of recommender systems: There are things we should not recommend to someone even though we are sure he/she will like it. Ethics and cultural issues are critical and we have to care about it</p>\n",
    "\n",
    "<img src=https://isenbergmarketing.files.wordpress.com/2015/02/marks_year.jpg width=600>\n",
    "\n",
    "https://www.forbes.com/sites/amitchowdhry/2014/12/29/facebook-year-in-review-apology/#1ecfc4e85996\n",
    "\n",
    "\n",
    "\n",
    "</div>\n",
    "\n",
    "\n",
    "\n"
   ]
  },
  {
   "cell_type": "markdown",
   "metadata": {},
   "source": [
    "<div class=\"alert alert-success\" style = \"border-radius:10px;border-width:3px;border-color:darkgreen;font-family:Verdana,sans-serif;font-size:16px;\">\n",
    "        <h2>Types of Recomenders:</h2>\n",
    "         <br>\n",
    "</div>Non-Personalized filtering</h3>\n",
    "        Non-personalized filtering are based on the description other users give to the item without using any information from the user itself. \n",
    "        <h3>Content-based filtering</h3>\n",
    "        Content-based filtering methods are based on a description of the item and a profile of the user’s preference.\n",
    "        <br>Will recomend the items which are similar to the items we liked.\n",
    "        <br>Need to compute a similarity between items based on the content of the items.\n",
    "        <img src=https://dataaspirant.files.wordpress.com/2015/01/itembased1.png width=400>\n",
    "        <center>Original source: https://dataaspirant.files.wordpress.com</center>\n",
    "        <h3>Collaborative filtering</h3>\n",
    "        Collaborative filtering methods are based on collecting and analyzing a large amount of information on users’ behaviors, activities or preferences and predicting what users will like based on their similarity to other users. \n",
    "        <br><b>Hyphothesis: Similar users tend to like similar items.</b>\n",
    "        <br><b>Requires a user community.</b>\n",
    "        <br>\n",
    "        <br>Collaborative filtering can be of two types: User-based and Item-based.\n",
    "    <ul>\n",
    "        <li>User-based CF works like this: take a user U and a set of other users D whose ratings are similar to the ratings of the selected user U and use the ratings from those like-minded users to calculate a prediction for the selected user U.</li><br>\n",
    "        <li>In Item-based CF you build an item-item matrix determining relationships between pairs of items and using this matrix and data on the current user, infer the user’s taste. Typicaly used in the domain: people who buy x also buy y</li>\n",
    "        </ul>\n",
    "        <img src=https://dataaspirant.files.wordpress.com/2015/01/userbased.png width=700>\n",
    "        <center>Original source: https://dataaspirant.files.wordpress.com</center>\n",
    "        <h3>Hybrid solutions</h3>\n",
    "        Hybrid approaches can be implemented in several ways: by making content-based and collaborative-based predictions separately and then combining them; by adding content-based capabilities to a collaborative-based approach (and vice versa); or by unifying the approaches into one model. \n",
    "        <img src=https://dataaspirant.files.wordpress.com/2015/01/people-who-liked-this-talk-also-liked-building-recommendation-systems-using-ruby-40-6381.jpg width=500>\n",
    "        <center>Original source: https://dataaspirant.files.wordpress.com</center>\n",
    "</div>\n",
    "\n",
    "\n",
    "\n",
    "<table style=\"width:95%\">\n",
    "  <tr >\n",
    "  <td style=\"width:20%\"></td>\n",
    "  <td>Pros</td>\n",
    "  <td>Cons</td>\n",
    "  </tr>\n",
    "  <tr>\n",
    "  <td>Content-Based</td>\n",
    "  <td>No community requiered, comparision between items possible from init</td>\n",
    "  <td>Content description needed; Good explainability, no surprises</td>\n",
    "  </tr>\n",
    "  <tr>\n",
    "  <td>Collaborative</td>\n",
    "  <td>well-understood, works well in several domains; easy to be implemented</td>\n",
    "  <td>Requieres a user community; sparsity problems; no explanation of results; cold-start for new users and items</td>\n",
    "  </tr>\n",
    "\n",
    " </table>\n"
   ]
  },
  {
   "cell_type": "markdown",
   "metadata": {},
   "source": [
    "\n",
    "## What do we need to build a recommendation system?\n",
    "\n",
    "### Steps:\n",
    "+ Data recollection\n",
    "+ Data filtering/cleaning\n",
    "+ Item/user similarity function\n",
    "+ Learning/Prediction funciton"
   ]
  },
  {
   "cell_type": "code",
   "execution_count": null,
   "metadata": {
    "collapsed": true
   },
   "outputs": [],
   "source": []
  }
 ],
 "metadata": {
  "anaconda-cloud": {},
  "kernelspec": {
   "display_name": "Python 3",
   "language": "python",
   "name": "python3"
  },
  "language_info": {
   "codemirror_mode": {
    "name": "ipython",
    "version": 3
   },
   "file_extension": ".py",
   "mimetype": "text/x-python",
   "name": "python",
   "nbconvert_exporter": "python",
   "pygments_lexer": "ipython3",
   "version": "3.6.2"
  }
 },
 "nbformat": 4,
 "nbformat_minor": 1
}
